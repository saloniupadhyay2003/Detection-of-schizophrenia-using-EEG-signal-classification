{
 "cells": [
  {
   "cell_type": "code",
   "execution_count": 1,
   "id": "f1cfdd68",
   "metadata": {},
   "outputs": [],
   "source": [
    "from glob import glob\n",
    "import os\n",
    "import mne\n",
    "import numpy as np\n",
    "import matplotlib.pyplot as plt\n",
    "import pandas as pd"
   ]
  },
  {
   "cell_type": "code",
   "execution_count": 2,
   "id": "36252a91",
   "metadata": {},
   "outputs": [
    {
     "name": "stdout",
     "output_type": "stream",
     "text": [
      "28\n"
     ]
    }
   ],
   "source": [
    "all_files_path=glob('EEG 14S - 14H/*.edf')\n",
    "print(len(all_files_path))"
   ]
  },
  {
   "cell_type": "code",
   "execution_count": 3,
   "id": "a3370790",
   "metadata": {},
   "outputs": [
    {
     "data": {
      "text/plain": [
       "'EEG 14S - 14H\\\\h01.edf'"
      ]
     },
     "execution_count": 3,
     "metadata": {},
     "output_type": "execute_result"
    }
   ],
   "source": [
    "all_files_path[0]"
   ]
  },
  {
   "cell_type": "code",
   "execution_count": 4,
   "id": "fa138250",
   "metadata": {},
   "outputs": [],
   "source": [
    "healthy_file_path=[i for i in all_files_path if  'h' in i.split('\\\\')[1]]\n",
    "patient_file_path=[i for i in all_files_path if  's' in i.split('\\\\')[1]]"
   ]
  },
  {
   "cell_type": "code",
   "execution_count": 5,
   "id": "5497a4ed",
   "metadata": {},
   "outputs": [],
   "source": [
    "def read_data(file_path):\n",
    "    datax=mne.io.read_raw_edf(file_path,preload=True)\n",
    "    datax.set_eeg_reference()\n",
    "    datax.filter(l_freq=1,h_freq=45)\n",
    "    epochs=mne.make_fixed_length_epochs(datax,duration=25,overlap=0)\n",
    "    epochs=epochs.get_data()\n",
    "    return epochs #trials,channel,length"
   ]
  },
  {
   "cell_type": "code",
   "execution_count": 6,
   "id": "342379b6",
   "metadata": {},
   "outputs": [
    {
     "name": "stdout",
     "output_type": "stream",
     "text": [
      "Extracting EDF parameters from C:\\Users\\hpw\\OneDrive\\Documents\\pytorch course\\EEG 14S - 14H\\h01.edf...\n",
      "EDF file detected\n",
      "Setting channel info structure...\n",
      "Creating raw.info structure...\n",
      "Reading 0 ... 231249  =      0.000 ...   924.996 secs...\n",
      "EEG channel type selected for re-referencing\n",
      "Applying average reference.\n",
      "Applying a custom ('EEG',) reference.\n",
      "Filtering raw data in 1 contiguous segment\n",
      "Setting up band-pass filter from 1 - 45 Hz\n",
      "\n",
      "FIR filter parameters\n",
      "---------------------\n",
      "Designing a one-pass, zero-phase, non-causal bandpass filter:\n",
      "- Windowed time-domain design (firwin) method\n",
      "- Hamming window with 0.0194 passband ripple and 53 dB stopband attenuation\n",
      "- Lower passband edge: 1.00\n",
      "- Lower transition bandwidth: 1.00 Hz (-6 dB cutoff frequency: 0.50 Hz)\n",
      "- Upper passband edge: 45.00 Hz\n",
      "- Upper transition bandwidth: 11.25 Hz (-6 dB cutoff frequency: 50.62 Hz)\n",
      "- Filter length: 825 samples (3.300 s)\n",
      "\n",
      "Not setting metadata\n",
      "37 matching events found\n",
      "No baseline correction applied\n",
      "0 projection items activated\n",
      "Using data from preloaded Raw for 37 events and 6250 original time points ...\n"
     ]
    },
    {
     "name": "stderr",
     "output_type": "stream",
     "text": [
      "[Parallel(n_jobs=1)]: Using backend SequentialBackend with 1 concurrent workers.\n",
      "[Parallel(n_jobs=1)]: Done   1 out of   1 | elapsed:    0.0s remaining:    0.0s\n",
      "[Parallel(n_jobs=1)]: Done   2 out of   2 | elapsed:    0.0s remaining:    0.0s\n",
      "[Parallel(n_jobs=1)]: Done   3 out of   3 | elapsed:    0.0s remaining:    0.0s\n",
      "[Parallel(n_jobs=1)]: Done   4 out of   4 | elapsed:    0.0s remaining:    0.0s\n",
      "[Parallel(n_jobs=1)]: Done  19 out of  19 | elapsed:    0.0s finished\n"
     ]
    },
    {
     "name": "stdout",
     "output_type": "stream",
     "text": [
      "0 bad epochs dropped\n"
     ]
    }
   ],
   "source": [
    "data=read_data(healthy_file_path[0])"
   ]
  },
  {
   "cell_type": "code",
   "execution_count": 7,
   "id": "00468d4d",
   "metadata": {},
   "outputs": [
    {
     "data": {
      "text/plain": [
       "(37, 19, 6250)"
      ]
     },
     "execution_count": 7,
     "metadata": {},
     "output_type": "execute_result"
    }
   ],
   "source": [
    "data.shape"
   ]
  },
  {
   "cell_type": "code",
   "execution_count": 8,
   "id": "dd49ac79",
   "metadata": {},
   "outputs": [
    {
     "name": "stdout",
     "output_type": "stream",
     "text": [
      "Extracting EDF parameters from C:\\Users\\hpw\\OneDrive\\Documents\\pytorch course\\EEG 14S - 14H\\h01.edf...\n",
      "EDF file detected\n",
      "Setting channel info structure...\n",
      "Creating raw.info structure...\n",
      "Reading 0 ... 231249  =      0.000 ...   924.996 secs...\n",
      "EEG channel type selected for re-referencing\n",
      "Applying average reference.\n",
      "Applying a custom ('EEG',) reference.\n",
      "Filtering raw data in 1 contiguous segment\n",
      "Setting up band-pass filter from 1 - 45 Hz\n",
      "\n",
      "FIR filter parameters\n",
      "---------------------\n",
      "Designing a one-pass, zero-phase, non-causal bandpass filter:\n",
      "- Windowed time-domain design (firwin) method\n",
      "- Hamming window with 0.0194 passband ripple and 53 dB stopband attenuation\n",
      "- Lower passband edge: 1.00\n",
      "- Lower transition bandwidth: 1.00 Hz (-6 dB cutoff frequency: 0.50 Hz)\n",
      "- Upper passband edge: 45.00 Hz\n",
      "- Upper transition bandwidth: 11.25 Hz (-6 dB cutoff frequency: 50.62 Hz)\n",
      "- Filter length: 825 samples (3.300 s)\n",
      "\n",
      "Not setting metadata\n",
      "37 matching events found\n",
      "No baseline correction applied\n",
      "0 projection items activated\n",
      "Using data from preloaded Raw for 37 events and 6250 original time points ...\n"
     ]
    },
    {
     "name": "stderr",
     "output_type": "stream",
     "text": [
      "[Parallel(n_jobs=1)]: Using backend SequentialBackend with 1 concurrent workers.\n",
      "[Parallel(n_jobs=1)]: Done   1 out of   1 | elapsed:    0.0s remaining:    0.0s\n",
      "[Parallel(n_jobs=1)]: Done   2 out of   2 | elapsed:    0.0s remaining:    0.0s\n",
      "[Parallel(n_jobs=1)]: Done   3 out of   3 | elapsed:    0.0s remaining:    0.0s\n",
      "[Parallel(n_jobs=1)]: Done   4 out of   4 | elapsed:    0.0s remaining:    0.0s\n",
      "[Parallel(n_jobs=1)]: Done  19 out of  19 | elapsed:    0.1s finished\n"
     ]
    },
    {
     "name": "stdout",
     "output_type": "stream",
     "text": [
      "0 bad epochs dropped\n",
      "Extracting EDF parameters from C:\\Users\\hpw\\OneDrive\\Documents\\pytorch course\\EEG 14S - 14H\\h02.edf...\n",
      "EDF file detected\n",
      "Setting channel info structure...\n",
      "Creating raw.info structure...\n",
      "Reading 0 ... 227499  =      0.000 ...   909.996 secs...\n",
      "EEG channel type selected for re-referencing\n",
      "Applying average reference.\n",
      "Applying a custom ('EEG',) reference.\n",
      "Filtering raw data in 1 contiguous segment\n",
      "Setting up band-pass filter from 1 - 45 Hz\n",
      "\n",
      "FIR filter parameters\n",
      "---------------------\n",
      "Designing a one-pass, zero-phase, non-causal bandpass filter:\n",
      "- Windowed time-domain design (firwin) method\n",
      "- Hamming window with 0.0194 passband ripple and 53 dB stopband attenuation\n",
      "- Lower passband edge: 1.00\n",
      "- Lower transition bandwidth: 1.00 Hz (-6 dB cutoff frequency: 0.50 Hz)\n",
      "- Upper passband edge: 45.00 Hz\n",
      "- Upper transition bandwidth: 11.25 Hz (-6 dB cutoff frequency: 50.62 Hz)\n",
      "- Filter length: 825 samples (3.300 s)\n",
      "\n",
      "Not setting metadata\n",
      "36 matching events found\n",
      "No baseline correction applied\n",
      "0 projection items activated\n",
      "Using data from preloaded Raw for 36 events and 6250 original time points ...\n"
     ]
    },
    {
     "name": "stderr",
     "output_type": "stream",
     "text": [
      "[Parallel(n_jobs=1)]: Using backend SequentialBackend with 1 concurrent workers.\n",
      "[Parallel(n_jobs=1)]: Done   1 out of   1 | elapsed:    0.0s remaining:    0.0s\n",
      "[Parallel(n_jobs=1)]: Done   2 out of   2 | elapsed:    0.0s remaining:    0.0s\n",
      "[Parallel(n_jobs=1)]: Done   3 out of   3 | elapsed:    0.0s remaining:    0.0s\n",
      "[Parallel(n_jobs=1)]: Done   4 out of   4 | elapsed:    0.0s remaining:    0.0s\n",
      "[Parallel(n_jobs=1)]: Done  19 out of  19 | elapsed:    0.0s finished\n"
     ]
    },
    {
     "name": "stdout",
     "output_type": "stream",
     "text": [
      "0 bad epochs dropped\n",
      "Extracting EDF parameters from C:\\Users\\hpw\\OneDrive\\Documents\\pytorch course\\EEG 14S - 14H\\h03.edf...\n",
      "EDF file detected\n",
      "Setting channel info structure...\n",
      "Creating raw.info structure...\n",
      "Reading 0 ... 227499  =      0.000 ...   909.996 secs...\n",
      "EEG channel type selected for re-referencing\n",
      "Applying average reference.\n",
      "Applying a custom ('EEG',) reference.\n",
      "Filtering raw data in 1 contiguous segment\n",
      "Setting up band-pass filter from 1 - 45 Hz\n",
      "\n",
      "FIR filter parameters\n",
      "---------------------\n",
      "Designing a one-pass, zero-phase, non-causal bandpass filter:\n",
      "- Windowed time-domain design (firwin) method\n",
      "- Hamming window with 0.0194 passband ripple and 53 dB stopband attenuation\n",
      "- Lower passband edge: 1.00\n",
      "- Lower transition bandwidth: 1.00 Hz (-6 dB cutoff frequency: 0.50 Hz)\n",
      "- Upper passband edge: 45.00 Hz\n",
      "- Upper transition bandwidth: 11.25 Hz (-6 dB cutoff frequency: 50.62 Hz)\n",
      "- Filter length: 825 samples (3.300 s)\n",
      "\n"
     ]
    },
    {
     "name": "stderr",
     "output_type": "stream",
     "text": [
      "[Parallel(n_jobs=1)]: Using backend SequentialBackend with 1 concurrent workers.\n",
      "[Parallel(n_jobs=1)]: Done   1 out of   1 | elapsed:    0.0s remaining:    0.0s\n",
      "[Parallel(n_jobs=1)]: Done   2 out of   2 | elapsed:    0.0s remaining:    0.0s\n",
      "[Parallel(n_jobs=1)]: Done   3 out of   3 | elapsed:    0.0s remaining:    0.0s\n",
      "[Parallel(n_jobs=1)]: Done   4 out of   4 | elapsed:    0.0s remaining:    0.0s\n",
      "[Parallel(n_jobs=1)]: Done  19 out of  19 | elapsed:    0.1s finished\n"
     ]
    },
    {
     "name": "stdout",
     "output_type": "stream",
     "text": [
      "Not setting metadata\n",
      "36 matching events found\n",
      "No baseline correction applied\n",
      "0 projection items activated\n",
      "Using data from preloaded Raw for 36 events and 6250 original time points ...\n",
      "0 bad epochs dropped\n",
      "Extracting EDF parameters from C:\\Users\\hpw\\OneDrive\\Documents\\pytorch course\\EEG 14S - 14H\\h04.edf...\n",
      "EDF file detected\n",
      "Setting channel info structure...\n",
      "Creating raw.info structure...\n",
      "Reading 0 ... 231249  =      0.000 ...   924.996 secs...\n",
      "EEG channel type selected for re-referencing\n",
      "Applying average reference.\n",
      "Applying a custom ('EEG',) reference.\n",
      "Filtering raw data in 1 contiguous segment\n",
      "Setting up band-pass filter from 1 - 45 Hz\n",
      "\n",
      "FIR filter parameters\n",
      "---------------------\n",
      "Designing a one-pass, zero-phase, non-causal bandpass filter:\n",
      "- Windowed time-domain design (firwin) method\n",
      "- Hamming window with 0.0194 passband ripple and 53 dB stopband attenuation\n",
      "- Lower passband edge: 1.00\n",
      "- Lower transition bandwidth: 1.00 Hz (-6 dB cutoff frequency: 0.50 Hz)\n",
      "- Upper passband edge: 45.00 Hz\n",
      "- Upper transition bandwidth: 11.25 Hz (-6 dB cutoff frequency: 50.62 Hz)\n",
      "- Filter length: 825 samples (3.300 s)\n",
      "\n"
     ]
    },
    {
     "name": "stderr",
     "output_type": "stream",
     "text": [
      "[Parallel(n_jobs=1)]: Using backend SequentialBackend with 1 concurrent workers.\n",
      "[Parallel(n_jobs=1)]: Done   1 out of   1 | elapsed:    0.0s remaining:    0.0s\n",
      "[Parallel(n_jobs=1)]: Done   2 out of   2 | elapsed:    0.0s remaining:    0.0s\n",
      "[Parallel(n_jobs=1)]: Done   3 out of   3 | elapsed:    0.0s remaining:    0.0s\n",
      "[Parallel(n_jobs=1)]: Done   4 out of   4 | elapsed:    0.0s remaining:    0.0s\n",
      "[Parallel(n_jobs=1)]: Done  19 out of  19 | elapsed:    0.1s finished\n"
     ]
    },
    {
     "name": "stdout",
     "output_type": "stream",
     "text": [
      "Not setting metadata\n",
      "37 matching events found\n",
      "No baseline correction applied\n",
      "0 projection items activated\n",
      "Using data from preloaded Raw for 37 events and 6250 original time points ...\n",
      "0 bad epochs dropped\n",
      "Extracting EDF parameters from C:\\Users\\hpw\\OneDrive\\Documents\\pytorch course\\EEG 14S - 14H\\h05.edf...\n",
      "EDF file detected\n",
      "Setting channel info structure...\n",
      "Creating raw.info structure...\n",
      "Reading 0 ... 236249  =      0.000 ...   944.996 secs...\n",
      "EEG channel type selected for re-referencing\n",
      "Applying average reference.\n",
      "Applying a custom ('EEG',) reference.\n",
      "Filtering raw data in 1 contiguous segment\n",
      "Setting up band-pass filter from 1 - 45 Hz\n",
      "\n",
      "FIR filter parameters\n",
      "---------------------\n",
      "Designing a one-pass, zero-phase, non-causal bandpass filter:\n",
      "- Windowed time-domain design (firwin) method\n",
      "- Hamming window with 0.0194 passband ripple and 53 dB stopband attenuation\n",
      "- Lower passband edge: 1.00\n",
      "- Lower transition bandwidth: 1.00 Hz (-6 dB cutoff frequency: 0.50 Hz)\n",
      "- Upper passband edge: 45.00 Hz\n",
      "- Upper transition bandwidth: 11.25 Hz (-6 dB cutoff frequency: 50.62 Hz)\n",
      "- Filter length: 825 samples (3.300 s)\n",
      "\n",
      "Not setting metadata\n",
      "37 matching events found\n"
     ]
    },
    {
     "name": "stderr",
     "output_type": "stream",
     "text": [
      "[Parallel(n_jobs=1)]: Using backend SequentialBackend with 1 concurrent workers.\n",
      "[Parallel(n_jobs=1)]: Done   1 out of   1 | elapsed:    0.0s remaining:    0.0s\n",
      "[Parallel(n_jobs=1)]: Done   2 out of   2 | elapsed:    0.0s remaining:    0.0s\n",
      "[Parallel(n_jobs=1)]: Done   3 out of   3 | elapsed:    0.0s remaining:    0.0s\n",
      "[Parallel(n_jobs=1)]: Done   4 out of   4 | elapsed:    0.0s remaining:    0.0s\n",
      "[Parallel(n_jobs=1)]: Done  19 out of  19 | elapsed:    0.1s finished\n"
     ]
    },
    {
     "name": "stdout",
     "output_type": "stream",
     "text": [
      "No baseline correction applied\n",
      "0 projection items activated\n",
      "Using data from preloaded Raw for 37 events and 6250 original time points ...\n",
      "0 bad epochs dropped\n",
      "Extracting EDF parameters from C:\\Users\\hpw\\OneDrive\\Documents\\pytorch course\\EEG 14S - 14H\\h06.edf...\n",
      "EDF file detected\n",
      "Setting channel info structure...\n",
      "Creating raw.info structure...\n",
      "Reading 0 ... 232499  =      0.000 ...   929.996 secs...\n",
      "EEG channel type selected for re-referencing\n",
      "Applying average reference.\n",
      "Applying a custom ('EEG',) reference.\n",
      "Filtering raw data in 1 contiguous segment\n",
      "Setting up band-pass filter from 1 - 45 Hz\n",
      "\n",
      "FIR filter parameters\n",
      "---------------------\n",
      "Designing a one-pass, zero-phase, non-causal bandpass filter:\n",
      "- Windowed time-domain design (firwin) method\n",
      "- Hamming window with 0.0194 passband ripple and 53 dB stopband attenuation\n",
      "- Lower passband edge: 1.00\n",
      "- Lower transition bandwidth: 1.00 Hz (-6 dB cutoff frequency: 0.50 Hz)\n",
      "- Upper passband edge: 45.00 Hz\n",
      "- Upper transition bandwidth: 11.25 Hz (-6 dB cutoff frequency: 50.62 Hz)\n",
      "- Filter length: 825 samples (3.300 s)\n",
      "\n"
     ]
    },
    {
     "name": "stderr",
     "output_type": "stream",
     "text": [
      "[Parallel(n_jobs=1)]: Using backend SequentialBackend with 1 concurrent workers.\n",
      "[Parallel(n_jobs=1)]: Done   1 out of   1 | elapsed:    0.0s remaining:    0.0s\n",
      "[Parallel(n_jobs=1)]: Done   2 out of   2 | elapsed:    0.0s remaining:    0.0s\n",
      "[Parallel(n_jobs=1)]: Done   3 out of   3 | elapsed:    0.0s remaining:    0.0s\n",
      "[Parallel(n_jobs=1)]: Done   4 out of   4 | elapsed:    0.0s remaining:    0.0s\n"
     ]
    },
    {
     "name": "stdout",
     "output_type": "stream",
     "text": [
      "Not setting metadata\n",
      "37 matching events found\n",
      "No baseline correction applied\n",
      "0 projection items activated\n",
      "Using data from preloaded Raw for 37 events and 6250 original time points ...\n"
     ]
    },
    {
     "name": "stderr",
     "output_type": "stream",
     "text": [
      "[Parallel(n_jobs=1)]: Done  19 out of  19 | elapsed:    0.6s finished\n"
     ]
    },
    {
     "name": "stdout",
     "output_type": "stream",
     "text": [
      "0 bad epochs dropped\n",
      "Extracting EDF parameters from C:\\Users\\hpw\\OneDrive\\Documents\\pytorch course\\EEG 14S - 14H\\h07.edf...\n",
      "EDF file detected\n",
      "Setting channel info structure...\n",
      "Creating raw.info structure...\n",
      "Reading 0 ... 227499  =      0.000 ...   909.996 secs...\n",
      "EEG channel type selected for re-referencing\n",
      "Applying average reference.\n",
      "Applying a custom ('EEG',) reference.\n",
      "Filtering raw data in 1 contiguous segment\n",
      "Setting up band-pass filter from 1 - 45 Hz\n",
      "\n",
      "FIR filter parameters\n",
      "---------------------\n",
      "Designing a one-pass, zero-phase, non-causal bandpass filter:\n",
      "- Windowed time-domain design (firwin) method\n",
      "- Hamming window with 0.0194 passband ripple and 53 dB stopband attenuation\n",
      "- Lower passband edge: 1.00\n",
      "- Lower transition bandwidth: 1.00 Hz (-6 dB cutoff frequency: 0.50 Hz)\n",
      "- Upper passband edge: 45.00 Hz\n",
      "- Upper transition bandwidth: 11.25 Hz (-6 dB cutoff frequency: 50.62 Hz)\n",
      "- Filter length: 825 samples (3.300 s)\n",
      "\n"
     ]
    },
    {
     "name": "stderr",
     "output_type": "stream",
     "text": [
      "[Parallel(n_jobs=1)]: Using backend SequentialBackend with 1 concurrent workers.\n",
      "[Parallel(n_jobs=1)]: Done   1 out of   1 | elapsed:    0.0s remaining:    0.0s\n",
      "[Parallel(n_jobs=1)]: Done   2 out of   2 | elapsed:    0.0s remaining:    0.0s\n",
      "[Parallel(n_jobs=1)]: Done   3 out of   3 | elapsed:    0.0s remaining:    0.0s\n",
      "[Parallel(n_jobs=1)]: Done   4 out of   4 | elapsed:    0.0s remaining:    0.0s\n"
     ]
    },
    {
     "name": "stdout",
     "output_type": "stream",
     "text": [
      "Not setting metadata\n",
      "36 matching events found\n",
      "No baseline correction applied\n",
      "0 projection items activated\n",
      "Using data from preloaded Raw for 36 events and 6250 original time points ...\n"
     ]
    },
    {
     "name": "stderr",
     "output_type": "stream",
     "text": [
      "[Parallel(n_jobs=1)]: Done  19 out of  19 | elapsed:    0.5s finished\n"
     ]
    },
    {
     "name": "stdout",
     "output_type": "stream",
     "text": [
      "0 bad epochs dropped\n",
      "Extracting EDF parameters from C:\\Users\\hpw\\OneDrive\\Documents\\pytorch course\\EEG 14S - 14H\\h08.edf...\n",
      "EDF file detected\n",
      "Setting channel info structure...\n",
      "Creating raw.info structure...\n",
      "Reading 0 ... 227499  =      0.000 ...   909.996 secs...\n",
      "EEG channel type selected for re-referencing\n",
      "Applying average reference.\n",
      "Applying a custom ('EEG',) reference.\n",
      "Filtering raw data in 1 contiguous segment\n",
      "Setting up band-pass filter from 1 - 45 Hz\n",
      "\n",
      "FIR filter parameters\n",
      "---------------------\n",
      "Designing a one-pass, zero-phase, non-causal bandpass filter:\n",
      "- Windowed time-domain design (firwin) method\n",
      "- Hamming window with 0.0194 passband ripple and 53 dB stopband attenuation\n",
      "- Lower passband edge: 1.00\n",
      "- Lower transition bandwidth: 1.00 Hz (-6 dB cutoff frequency: 0.50 Hz)\n",
      "- Upper passband edge: 45.00 Hz\n",
      "- Upper transition bandwidth: 11.25 Hz (-6 dB cutoff frequency: 50.62 Hz)\n",
      "- Filter length: 825 samples (3.300 s)\n",
      "\n"
     ]
    },
    {
     "name": "stderr",
     "output_type": "stream",
     "text": [
      "[Parallel(n_jobs=1)]: Using backend SequentialBackend with 1 concurrent workers.\n",
      "[Parallel(n_jobs=1)]: Done   1 out of   1 | elapsed:    0.0s remaining:    0.0s\n",
      "[Parallel(n_jobs=1)]: Done   2 out of   2 | elapsed:    0.0s remaining:    0.0s\n",
      "[Parallel(n_jobs=1)]: Done   3 out of   3 | elapsed:    0.0s remaining:    0.0s\n",
      "[Parallel(n_jobs=1)]: Done   4 out of   4 | elapsed:    0.0s remaining:    0.0s\n"
     ]
    },
    {
     "name": "stdout",
     "output_type": "stream",
     "text": [
      "Not setting metadata\n",
      "36 matching events found\n",
      "No baseline correction applied\n",
      "0 projection items activated\n",
      "Using data from preloaded Raw for 36 events and 6250 original time points ...\n",
      "0 bad epochs dropped\n",
      "Extracting EDF parameters from C:\\Users\\hpw\\OneDrive\\Documents\\pytorch course\\EEG 14S - 14H\\h09.edf...\n",
      "EDF file detected\n",
      "Setting channel info structure...\n",
      "Creating raw.info structure...\n",
      "Reading 0 ... 226249  =      0.000 ...   904.996 secs...\n",
      "EEG channel type selected for re-referencing\n",
      "Applying average reference.\n",
      "Applying a custom ('EEG',) reference.\n",
      "Filtering raw data in 1 contiguous segment\n"
     ]
    },
    {
     "name": "stderr",
     "output_type": "stream",
     "text": [
      "[Parallel(n_jobs=1)]: Done  19 out of  19 | elapsed:    0.1s finished\n"
     ]
    },
    {
     "name": "stdout",
     "output_type": "stream",
     "text": [
      "Setting up band-pass filter from 1 - 45 Hz\n",
      "\n",
      "FIR filter parameters\n",
      "---------------------\n",
      "Designing a one-pass, zero-phase, non-causal bandpass filter:\n",
      "- Windowed time-domain design (firwin) method\n",
      "- Hamming window with 0.0194 passband ripple and 53 dB stopband attenuation\n",
      "- Lower passband edge: 1.00\n",
      "- Lower transition bandwidth: 1.00 Hz (-6 dB cutoff frequency: 0.50 Hz)\n",
      "- Upper passband edge: 45.00 Hz\n",
      "- Upper transition bandwidth: 11.25 Hz (-6 dB cutoff frequency: 50.62 Hz)\n",
      "- Filter length: 825 samples (3.300 s)\n",
      "\n"
     ]
    },
    {
     "name": "stderr",
     "output_type": "stream",
     "text": [
      "[Parallel(n_jobs=1)]: Using backend SequentialBackend with 1 concurrent workers.\n",
      "[Parallel(n_jobs=1)]: Done   1 out of   1 | elapsed:    0.0s remaining:    0.0s\n",
      "[Parallel(n_jobs=1)]: Done   2 out of   2 | elapsed:    0.0s remaining:    0.0s\n",
      "[Parallel(n_jobs=1)]: Done   3 out of   3 | elapsed:    0.0s remaining:    0.0s\n",
      "[Parallel(n_jobs=1)]: Done   4 out of   4 | elapsed:    0.0s remaining:    0.0s\n"
     ]
    },
    {
     "name": "stdout",
     "output_type": "stream",
     "text": [
      "Not setting metadata\n",
      "36 matching events found\n",
      "No baseline correction applied\n",
      "0 projection items activated\n",
      "Using data from preloaded Raw for 36 events and 6250 original time points ...\n",
      "0 bad epochs dropped\n",
      "Extracting EDF parameters from C:\\Users\\hpw\\OneDrive\\Documents\\pytorch course\\EEG 14S - 14H\\h10.edf...\n",
      "EDF file detected\n",
      "Setting channel info structure...\n",
      "Creating raw.info structure...\n",
      "Reading 0 ... 278749  =      0.000 ...  1114.996 secs...\n"
     ]
    },
    {
     "name": "stderr",
     "output_type": "stream",
     "text": [
      "[Parallel(n_jobs=1)]: Done  19 out of  19 | elapsed:    0.2s finished\n"
     ]
    },
    {
     "name": "stdout",
     "output_type": "stream",
     "text": [
      "EEG channel type selected for re-referencing\n",
      "Applying average reference.\n",
      "Applying a custom ('EEG',) reference.\n",
      "Filtering raw data in 1 contiguous segment\n",
      "Setting up band-pass filter from 1 - 45 Hz\n",
      "\n",
      "FIR filter parameters\n",
      "---------------------\n",
      "Designing a one-pass, zero-phase, non-causal bandpass filter:\n",
      "- Windowed time-domain design (firwin) method\n",
      "- Hamming window with 0.0194 passband ripple and 53 dB stopband attenuation\n",
      "- Lower passband edge: 1.00\n",
      "- Lower transition bandwidth: 1.00 Hz (-6 dB cutoff frequency: 0.50 Hz)\n",
      "- Upper passband edge: 45.00 Hz\n",
      "- Upper transition bandwidth: 11.25 Hz (-6 dB cutoff frequency: 50.62 Hz)\n",
      "- Filter length: 825 samples (3.300 s)\n",
      "\n"
     ]
    },
    {
     "name": "stderr",
     "output_type": "stream",
     "text": [
      "[Parallel(n_jobs=1)]: Using backend SequentialBackend with 1 concurrent workers.\n",
      "[Parallel(n_jobs=1)]: Done   1 out of   1 | elapsed:    0.0s remaining:    0.0s\n",
      "[Parallel(n_jobs=1)]: Done   2 out of   2 | elapsed:    0.0s remaining:    0.0s\n",
      "[Parallel(n_jobs=1)]: Done   3 out of   3 | elapsed:    0.0s remaining:    0.0s\n",
      "[Parallel(n_jobs=1)]: Done   4 out of   4 | elapsed:    0.1s remaining:    0.0s\n"
     ]
    },
    {
     "name": "stdout",
     "output_type": "stream",
     "text": [
      "Not setting metadata\n",
      "44 matching events found\n",
      "No baseline correction applied\n",
      "0 projection items activated\n",
      "Using data from preloaded Raw for 44 events and 6250 original time points ...\n"
     ]
    },
    {
     "name": "stderr",
     "output_type": "stream",
     "text": [
      "[Parallel(n_jobs=1)]: Done  19 out of  19 | elapsed:    0.8s finished\n"
     ]
    },
    {
     "name": "stdout",
     "output_type": "stream",
     "text": [
      "0 bad epochs dropped\n",
      "Extracting EDF parameters from C:\\Users\\hpw\\OneDrive\\Documents\\pytorch course\\EEG 14S - 14H\\h11.edf...\n",
      "EDF file detected\n",
      "Setting channel info structure...\n",
      "Creating raw.info structure...\n",
      "Reading 0 ... 228749  =      0.000 ...   914.996 secs...\n",
      "EEG channel type selected for re-referencing\n",
      "Applying average reference.\n",
      "Applying a custom ('EEG',) reference.\n",
      "Filtering raw data in 1 contiguous segment\n",
      "Setting up band-pass filter from 1 - 45 Hz\n",
      "\n",
      "FIR filter parameters\n",
      "---------------------\n",
      "Designing a one-pass, zero-phase, non-causal bandpass filter:\n",
      "- Windowed time-domain design (firwin) method\n",
      "- Hamming window with 0.0194 passband ripple and 53 dB stopband attenuation\n",
      "- Lower passband edge: 1.00\n",
      "- Lower transition bandwidth: 1.00 Hz (-6 dB cutoff frequency: 0.50 Hz)\n",
      "- Upper passband edge: 45.00 Hz\n",
      "- Upper transition bandwidth: 11.25 Hz (-6 dB cutoff frequency: 50.62 Hz)\n",
      "- Filter length: 825 samples (3.300 s)\n",
      "\n"
     ]
    },
    {
     "name": "stderr",
     "output_type": "stream",
     "text": [
      "[Parallel(n_jobs=1)]: Using backend SequentialBackend with 1 concurrent workers.\n",
      "[Parallel(n_jobs=1)]: Done   1 out of   1 | elapsed:    0.0s remaining:    0.0s\n",
      "[Parallel(n_jobs=1)]: Done   2 out of   2 | elapsed:    0.0s remaining:    0.0s\n",
      "[Parallel(n_jobs=1)]: Done   3 out of   3 | elapsed:    0.0s remaining:    0.0s\n",
      "[Parallel(n_jobs=1)]: Done   4 out of   4 | elapsed:    0.0s remaining:    0.0s\n"
     ]
    },
    {
     "name": "stdout",
     "output_type": "stream",
     "text": [
      "Not setting metadata\n",
      "36 matching events found\n",
      "No baseline correction applied\n",
      "0 projection items activated\n",
      "Using data from preloaded Raw for 36 events and 6250 original time points ...\n",
      "0 bad epochs dropped\n"
     ]
    },
    {
     "name": "stderr",
     "output_type": "stream",
     "text": [
      "[Parallel(n_jobs=1)]: Done  19 out of  19 | elapsed:    0.4s finished\n"
     ]
    },
    {
     "name": "stdout",
     "output_type": "stream",
     "text": [
      "Extracting EDF parameters from C:\\Users\\hpw\\OneDrive\\Documents\\pytorch course\\EEG 14S - 14H\\h12.edf...\n",
      "EDF file detected\n",
      "Setting channel info structure...\n",
      "Creating raw.info structure...\n",
      "Reading 0 ... 224999  =      0.000 ...   899.996 secs...\n",
      "EEG channel type selected for re-referencing\n",
      "Applying average reference.\n",
      "Applying a custom ('EEG',) reference.\n",
      "Filtering raw data in 1 contiguous segment\n",
      "Setting up band-pass filter from 1 - 45 Hz\n",
      "\n",
      "FIR filter parameters\n",
      "---------------------\n",
      "Designing a one-pass, zero-phase, non-causal bandpass filter:\n",
      "- Windowed time-domain design (firwin) method\n",
      "- Hamming window with 0.0194 passband ripple and 53 dB stopband attenuation\n",
      "- Lower passband edge: 1.00\n",
      "- Lower transition bandwidth: 1.00 Hz (-6 dB cutoff frequency: 0.50 Hz)\n",
      "- Upper passband edge: 45.00 Hz\n",
      "- Upper transition bandwidth: 11.25 Hz (-6 dB cutoff frequency: 50.62 Hz)\n",
      "- Filter length: 825 samples (3.300 s)\n",
      "\n"
     ]
    },
    {
     "name": "stderr",
     "output_type": "stream",
     "text": [
      "[Parallel(n_jobs=1)]: Using backend SequentialBackend with 1 concurrent workers.\n",
      "[Parallel(n_jobs=1)]: Done   1 out of   1 | elapsed:    0.0s remaining:    0.0s\n",
      "[Parallel(n_jobs=1)]: Done   2 out of   2 | elapsed:    0.0s remaining:    0.0s\n",
      "[Parallel(n_jobs=1)]: Done   3 out of   3 | elapsed:    0.0s remaining:    0.0s\n",
      "[Parallel(n_jobs=1)]: Done   4 out of   4 | elapsed:    0.1s remaining:    0.0s\n"
     ]
    },
    {
     "name": "stdout",
     "output_type": "stream",
     "text": [
      "Not setting metadata\n",
      "36 matching events found\n",
      "No baseline correction applied\n",
      "0 projection items activated\n",
      "Using data from preloaded Raw for 36 events and 6250 original time points ...\n"
     ]
    },
    {
     "name": "stderr",
     "output_type": "stream",
     "text": [
      "[Parallel(n_jobs=1)]: Done  19 out of  19 | elapsed:    0.5s finished\n"
     ]
    },
    {
     "name": "stdout",
     "output_type": "stream",
     "text": [
      "0 bad epochs dropped\n",
      "Extracting EDF parameters from C:\\Users\\hpw\\OneDrive\\Documents\\pytorch course\\EEG 14S - 14H\\h13.edf...\n",
      "EDF file detected\n",
      "Setting channel info structure...\n",
      "Creating raw.info structure...\n",
      "Reading 0 ... 241249  =      0.000 ...   964.996 secs...\n",
      "EEG channel type selected for re-referencing\n",
      "Applying average reference.\n",
      "Applying a custom ('EEG',) reference.\n",
      "Filtering raw data in 1 contiguous segment\n",
      "Setting up band-pass filter from 1 - 45 Hz\n",
      "\n",
      "FIR filter parameters\n",
      "---------------------\n",
      "Designing a one-pass, zero-phase, non-causal bandpass filter:\n",
      "- Windowed time-domain design (firwin) method\n",
      "- Hamming window with 0.0194 passband ripple and 53 dB stopband attenuation\n",
      "- Lower passband edge: 1.00\n",
      "- Lower transition bandwidth: 1.00 Hz (-6 dB cutoff frequency: 0.50 Hz)\n",
      "- Upper passband edge: 45.00 Hz\n",
      "- Upper transition bandwidth: 11.25 Hz (-6 dB cutoff frequency: 50.62 Hz)\n",
      "- Filter length: 825 samples (3.300 s)\n",
      "\n"
     ]
    },
    {
     "name": "stderr",
     "output_type": "stream",
     "text": [
      "[Parallel(n_jobs=1)]: Using backend SequentialBackend with 1 concurrent workers.\n",
      "[Parallel(n_jobs=1)]: Done   1 out of   1 | elapsed:    0.0s remaining:    0.0s\n",
      "[Parallel(n_jobs=1)]: Done   2 out of   2 | elapsed:    0.0s remaining:    0.0s\n",
      "[Parallel(n_jobs=1)]: Done   3 out of   3 | elapsed:    0.0s remaining:    0.0s\n",
      "[Parallel(n_jobs=1)]: Done   4 out of   4 | elapsed:    0.0s remaining:    0.0s\n"
     ]
    },
    {
     "name": "stdout",
     "output_type": "stream",
     "text": [
      "Not setting metadata\n",
      "38 matching events found\n",
      "No baseline correction applied\n",
      "0 projection items activated\n",
      "Using data from preloaded Raw for 38 events and 6250 original time points ...\n"
     ]
    },
    {
     "name": "stderr",
     "output_type": "stream",
     "text": [
      "[Parallel(n_jobs=1)]: Done  19 out of  19 | elapsed:    0.3s finished\n"
     ]
    },
    {
     "name": "stdout",
     "output_type": "stream",
     "text": [
      "0 bad epochs dropped\n",
      "Extracting EDF parameters from C:\\Users\\hpw\\OneDrive\\Documents\\pytorch course\\EEG 14S - 14H\\h14.edf...\n",
      "EDF file detected\n",
      "Setting channel info structure...\n",
      "Creating raw.info structure...\n",
      "Reading 0 ... 216249  =      0.000 ...   864.996 secs...\n",
      "EEG channel type selected for re-referencing\n",
      "Applying average reference.\n",
      "Applying a custom ('EEG',) reference.\n",
      "Filtering raw data in 1 contiguous segment\n",
      "Setting up band-pass filter from 1 - 45 Hz\n",
      "\n",
      "FIR filter parameters\n",
      "---------------------\n",
      "Designing a one-pass, zero-phase, non-causal bandpass filter:\n",
      "- Windowed time-domain design (firwin) method\n",
      "- Hamming window with 0.0194 passband ripple and 53 dB stopband attenuation\n",
      "- Lower passband edge: 1.00\n",
      "- Lower transition bandwidth: 1.00 Hz (-6 dB cutoff frequency: 0.50 Hz)\n",
      "- Upper passband edge: 45.00 Hz\n",
      "- Upper transition bandwidth: 11.25 Hz (-6 dB cutoff frequency: 50.62 Hz)\n",
      "- Filter length: 825 samples (3.300 s)\n",
      "\n"
     ]
    },
    {
     "name": "stderr",
     "output_type": "stream",
     "text": [
      "[Parallel(n_jobs=1)]: Using backend SequentialBackend with 1 concurrent workers.\n",
      "[Parallel(n_jobs=1)]: Done   1 out of   1 | elapsed:    0.0s remaining:    0.0s\n",
      "[Parallel(n_jobs=1)]: Done   2 out of   2 | elapsed:    0.0s remaining:    0.0s\n",
      "[Parallel(n_jobs=1)]: Done   3 out of   3 | elapsed:    0.0s remaining:    0.0s\n",
      "[Parallel(n_jobs=1)]: Done   4 out of   4 | elapsed:    0.0s remaining:    0.0s\n"
     ]
    },
    {
     "name": "stdout",
     "output_type": "stream",
     "text": [
      "Not setting metadata\n",
      "34 matching events found\n",
      "No baseline correction applied\n",
      "0 projection items activated\n",
      "Using data from preloaded Raw for 34 events and 6250 original time points ...\n"
     ]
    },
    {
     "name": "stderr",
     "output_type": "stream",
     "text": [
      "[Parallel(n_jobs=1)]: Done  19 out of  19 | elapsed:    0.5s finished\n"
     ]
    },
    {
     "name": "stdout",
     "output_type": "stream",
     "text": [
      "0 bad epochs dropped\n",
      "Extracting EDF parameters from C:\\Users\\hpw\\OneDrive\\Documents\\pytorch course\\EEG 14S - 14H\\s01.edf...\n",
      "EDF file detected\n",
      "Setting channel info structure...\n",
      "Creating raw.info structure...\n",
      "Reading 0 ... 211249  =      0.000 ...   844.996 secs...\n",
      "EEG channel type selected for re-referencing\n",
      "Applying average reference.\n",
      "Applying a custom ('EEG',) reference.\n",
      "Filtering raw data in 1 contiguous segment\n",
      "Setting up band-pass filter from 1 - 45 Hz\n",
      "\n",
      "FIR filter parameters\n",
      "---------------------\n",
      "Designing a one-pass, zero-phase, non-causal bandpass filter:\n",
      "- Windowed time-domain design (firwin) method\n",
      "- Hamming window with 0.0194 passband ripple and 53 dB stopband attenuation\n",
      "- Lower passband edge: 1.00\n",
      "- Lower transition bandwidth: 1.00 Hz (-6 dB cutoff frequency: 0.50 Hz)\n",
      "- Upper passband edge: 45.00 Hz\n",
      "- Upper transition bandwidth: 11.25 Hz (-6 dB cutoff frequency: 50.62 Hz)\n",
      "- Filter length: 825 samples (3.300 s)\n",
      "\n"
     ]
    },
    {
     "name": "stderr",
     "output_type": "stream",
     "text": [
      "[Parallel(n_jobs=1)]: Using backend SequentialBackend with 1 concurrent workers.\n",
      "[Parallel(n_jobs=1)]: Done   1 out of   1 | elapsed:    0.0s remaining:    0.0s\n",
      "[Parallel(n_jobs=1)]: Done   2 out of   2 | elapsed:    0.0s remaining:    0.0s\n",
      "[Parallel(n_jobs=1)]: Done   3 out of   3 | elapsed:    0.0s remaining:    0.0s\n",
      "[Parallel(n_jobs=1)]: Done   4 out of   4 | elapsed:    0.0s remaining:    0.0s\n"
     ]
    },
    {
     "name": "stdout",
     "output_type": "stream",
     "text": [
      "Not setting metadata\n",
      "33 matching events found\n",
      "No baseline correction applied\n",
      "0 projection items activated\n",
      "Using data from preloaded Raw for 33 events and 6250 original time points ...\n",
      "0 bad epochs dropped\n",
      "Extracting EDF parameters from C:\\Users\\hpw\\OneDrive\\Documents\\pytorch course\\EEG 14S - 14H\\s02.edf...\n",
      "EDF file detected\n",
      "Setting channel info structure...\n",
      "Creating raw.info structure...\n",
      "Reading 0 ... 286249  =      0.000 ...  1144.996 secs...\n"
     ]
    },
    {
     "name": "stderr",
     "output_type": "stream",
     "text": [
      "[Parallel(n_jobs=1)]: Done  19 out of  19 | elapsed:    0.5s finished\n"
     ]
    },
    {
     "name": "stdout",
     "output_type": "stream",
     "text": [
      "EEG channel type selected for re-referencing\n",
      "Applying average reference.\n",
      "Applying a custom ('EEG',) reference.\n",
      "Filtering raw data in 1 contiguous segment\n",
      "Setting up band-pass filter from 1 - 45 Hz\n",
      "\n",
      "FIR filter parameters\n",
      "---------------------\n",
      "Designing a one-pass, zero-phase, non-causal bandpass filter:\n",
      "- Windowed time-domain design (firwin) method\n",
      "- Hamming window with 0.0194 passband ripple and 53 dB stopband attenuation\n",
      "- Lower passband edge: 1.00\n",
      "- Lower transition bandwidth: 1.00 Hz (-6 dB cutoff frequency: 0.50 Hz)\n",
      "- Upper passband edge: 45.00 Hz\n",
      "- Upper transition bandwidth: 11.25 Hz (-6 dB cutoff frequency: 50.62 Hz)\n",
      "- Filter length: 825 samples (3.300 s)\n",
      "\n"
     ]
    },
    {
     "name": "stderr",
     "output_type": "stream",
     "text": [
      "[Parallel(n_jobs=1)]: Using backend SequentialBackend with 1 concurrent workers.\n",
      "[Parallel(n_jobs=1)]: Done   1 out of   1 | elapsed:    0.0s remaining:    0.0s\n",
      "[Parallel(n_jobs=1)]: Done   2 out of   2 | elapsed:    0.0s remaining:    0.0s\n",
      "[Parallel(n_jobs=1)]: Done   3 out of   3 | elapsed:    0.0s remaining:    0.0s\n",
      "[Parallel(n_jobs=1)]: Done   4 out of   4 | elapsed:    0.1s remaining:    0.0s\n"
     ]
    },
    {
     "name": "stdout",
     "output_type": "stream",
     "text": [
      "Not setting metadata\n",
      "45 matching events found\n",
      "No baseline correction applied\n",
      "0 projection items activated\n",
      "Using data from preloaded Raw for 45 events and 6250 original time points ...\n"
     ]
    },
    {
     "name": "stderr",
     "output_type": "stream",
     "text": [
      "[Parallel(n_jobs=1)]: Done  19 out of  19 | elapsed:    1.0s finished\n"
     ]
    },
    {
     "name": "stdout",
     "output_type": "stream",
     "text": [
      "0 bad epochs dropped\n",
      "Extracting EDF parameters from C:\\Users\\hpw\\OneDrive\\Documents\\pytorch course\\EEG 14S - 14H\\s03.edf...\n",
      "EDF file detected\n",
      "Setting channel info structure...\n",
      "Creating raw.info structure...\n",
      "Reading 0 ... 240999  =      0.000 ...   963.996 secs...\n",
      "EEG channel type selected for re-referencing\n",
      "Applying average reference.\n",
      "Applying a custom ('EEG',) reference.\n",
      "Filtering raw data in 1 contiguous segment\n",
      "Setting up band-pass filter from 1 - 45 Hz\n",
      "\n",
      "FIR filter parameters\n",
      "---------------------\n",
      "Designing a one-pass, zero-phase, non-causal bandpass filter:\n",
      "- Windowed time-domain design (firwin) method\n",
      "- Hamming window with 0.0194 passband ripple and 53 dB stopband attenuation\n",
      "- Lower passband edge: 1.00\n",
      "- Lower transition bandwidth: 1.00 Hz (-6 dB cutoff frequency: 0.50 Hz)\n",
      "- Upper passband edge: 45.00 Hz\n",
      "- Upper transition bandwidth: 11.25 Hz (-6 dB cutoff frequency: 50.62 Hz)\n",
      "- Filter length: 825 samples (3.300 s)\n",
      "\n"
     ]
    },
    {
     "name": "stderr",
     "output_type": "stream",
     "text": [
      "[Parallel(n_jobs=1)]: Using backend SequentialBackend with 1 concurrent workers.\n",
      "[Parallel(n_jobs=1)]: Done   1 out of   1 | elapsed:    0.0s remaining:    0.0s\n",
      "[Parallel(n_jobs=1)]: Done   2 out of   2 | elapsed:    0.0s remaining:    0.0s\n",
      "[Parallel(n_jobs=1)]: Done   3 out of   3 | elapsed:    0.0s remaining:    0.0s\n",
      "[Parallel(n_jobs=1)]: Done   4 out of   4 | elapsed:    0.1s remaining:    0.0s\n"
     ]
    },
    {
     "name": "stdout",
     "output_type": "stream",
     "text": [
      "Not setting metadata\n",
      "38 matching events found\n",
      "No baseline correction applied\n",
      "0 projection items activated\n",
      "Using data from preloaded Raw for 38 events and 6250 original time points ...\n"
     ]
    },
    {
     "name": "stderr",
     "output_type": "stream",
     "text": [
      "[Parallel(n_jobs=1)]: Done  19 out of  19 | elapsed:    0.4s finished\n"
     ]
    },
    {
     "name": "stdout",
     "output_type": "stream",
     "text": [
      "0 bad epochs dropped\n",
      "Extracting EDF parameters from C:\\Users\\hpw\\OneDrive\\Documents\\pytorch course\\EEG 14S - 14H\\s04.edf...\n",
      "EDF file detected\n",
      "Setting channel info structure...\n",
      "Creating raw.info structure...\n",
      "Reading 0 ... 301249  =      0.000 ...  1204.996 secs...\n",
      "EEG channel type selected for re-referencing\n",
      "Applying average reference.\n",
      "Applying a custom ('EEG',) reference.\n",
      "Filtering raw data in 1 contiguous segment\n",
      "Setting up band-pass filter from 1 - 45 Hz\n",
      "\n",
      "FIR filter parameters\n",
      "---------------------\n",
      "Designing a one-pass, zero-phase, non-causal bandpass filter:\n",
      "- Windowed time-domain design (firwin) method\n",
      "- Hamming window with 0.0194 passband ripple and 53 dB stopband attenuation\n",
      "- Lower passband edge: 1.00\n",
      "- Lower transition bandwidth: 1.00 Hz (-6 dB cutoff frequency: 0.50 Hz)\n",
      "- Upper passband edge: 45.00 Hz\n",
      "- Upper transition bandwidth: 11.25 Hz (-6 dB cutoff frequency: 50.62 Hz)\n",
      "- Filter length: 825 samples (3.300 s)\n",
      "\n"
     ]
    },
    {
     "name": "stderr",
     "output_type": "stream",
     "text": [
      "[Parallel(n_jobs=1)]: Using backend SequentialBackend with 1 concurrent workers.\n",
      "[Parallel(n_jobs=1)]: Done   1 out of   1 | elapsed:    0.0s remaining:    0.0s\n",
      "[Parallel(n_jobs=1)]: Done   2 out of   2 | elapsed:    0.0s remaining:    0.0s\n",
      "[Parallel(n_jobs=1)]: Done   3 out of   3 | elapsed:    0.0s remaining:    0.0s\n",
      "[Parallel(n_jobs=1)]: Done   4 out of   4 | elapsed:    0.0s remaining:    0.0s\n"
     ]
    },
    {
     "name": "stdout",
     "output_type": "stream",
     "text": [
      "Not setting metadata\n",
      "48 matching events found\n",
      "No baseline correction applied\n",
      "0 projection items activated\n",
      "Using data from preloaded Raw for 48 events and 6250 original time points ...\n"
     ]
    },
    {
     "name": "stderr",
     "output_type": "stream",
     "text": [
      "[Parallel(n_jobs=1)]: Done  19 out of  19 | elapsed:    0.9s finished\n"
     ]
    },
    {
     "name": "stdout",
     "output_type": "stream",
     "text": [
      "0 bad epochs dropped\n",
      "Extracting EDF parameters from C:\\Users\\hpw\\OneDrive\\Documents\\pytorch course\\EEG 14S - 14H\\s05.edf...\n",
      "EDF file detected\n",
      "Setting channel info structure...\n",
      "Creating raw.info structure...\n",
      "Reading 0 ... 222499  =      0.000 ...   889.996 secs...\n",
      "EEG channel type selected for re-referencing\n",
      "Applying average reference.\n",
      "Applying a custom ('EEG',) reference.\n",
      "Filtering raw data in 1 contiguous segment\n",
      "Setting up band-pass filter from 1 - 45 Hz\n",
      "\n",
      "FIR filter parameters\n",
      "---------------------\n",
      "Designing a one-pass, zero-phase, non-causal bandpass filter:\n",
      "- Windowed time-domain design (firwin) method\n",
      "- Hamming window with 0.0194 passband ripple and 53 dB stopband attenuation\n",
      "- Lower passband edge: 1.00\n",
      "- Lower transition bandwidth: 1.00 Hz (-6 dB cutoff frequency: 0.50 Hz)\n",
      "- Upper passband edge: 45.00 Hz\n",
      "- Upper transition bandwidth: 11.25 Hz (-6 dB cutoff frequency: 50.62 Hz)\n",
      "- Filter length: 825 samples (3.300 s)\n",
      "\n"
     ]
    },
    {
     "name": "stderr",
     "output_type": "stream",
     "text": [
      "[Parallel(n_jobs=1)]: Using backend SequentialBackend with 1 concurrent workers.\n",
      "[Parallel(n_jobs=1)]: Done   1 out of   1 | elapsed:    0.0s remaining:    0.0s\n",
      "[Parallel(n_jobs=1)]: Done   2 out of   2 | elapsed:    0.0s remaining:    0.0s\n",
      "[Parallel(n_jobs=1)]: Done   3 out of   3 | elapsed:    0.0s remaining:    0.0s\n",
      "[Parallel(n_jobs=1)]: Done   4 out of   4 | elapsed:    0.0s remaining:    0.0s\n"
     ]
    },
    {
     "name": "stdout",
     "output_type": "stream",
     "text": [
      "Not setting metadata\n",
      "35 matching events found\n",
      "No baseline correction applied\n",
      "0 projection items activated\n",
      "Using data from preloaded Raw for 35 events and 6250 original time points ...\n",
      "0 bad epochs dropped\n",
      "Extracting EDF parameters from C:\\Users\\hpw\\OneDrive\\Documents\\pytorch course\\EEG 14S - 14H\\s06.edf...\n",
      "EDF file detected\n",
      "Setting channel info structure...\n",
      "Creating raw.info structure...\n"
     ]
    },
    {
     "name": "stderr",
     "output_type": "stream",
     "text": [
      "[Parallel(n_jobs=1)]: Done  19 out of  19 | elapsed:    0.4s finished\n"
     ]
    },
    {
     "name": "stdout",
     "output_type": "stream",
     "text": [
      "Reading 0 ... 184999  =      0.000 ...   739.996 secs...\n",
      "EEG channel type selected for re-referencing\n",
      "Applying average reference.\n",
      "Applying a custom ('EEG',) reference.\n",
      "Filtering raw data in 1 contiguous segment\n",
      "Setting up band-pass filter from 1 - 45 Hz\n",
      "\n",
      "FIR filter parameters\n",
      "---------------------\n",
      "Designing a one-pass, zero-phase, non-causal bandpass filter:\n",
      "- Windowed time-domain design (firwin) method\n",
      "- Hamming window with 0.0194 passband ripple and 53 dB stopband attenuation\n",
      "- Lower passband edge: 1.00\n",
      "- Lower transition bandwidth: 1.00 Hz (-6 dB cutoff frequency: 0.50 Hz)\n",
      "- Upper passband edge: 45.00 Hz\n",
      "- Upper transition bandwidth: 11.25 Hz (-6 dB cutoff frequency: 50.62 Hz)\n",
      "- Filter length: 825 samples (3.300 s)\n",
      "\n"
     ]
    },
    {
     "name": "stderr",
     "output_type": "stream",
     "text": [
      "[Parallel(n_jobs=1)]: Using backend SequentialBackend with 1 concurrent workers.\n",
      "[Parallel(n_jobs=1)]: Done   1 out of   1 | elapsed:    0.0s remaining:    0.0s\n",
      "[Parallel(n_jobs=1)]: Done   2 out of   2 | elapsed:    0.0s remaining:    0.0s\n",
      "[Parallel(n_jobs=1)]: Done   3 out of   3 | elapsed:    0.0s remaining:    0.0s\n",
      "[Parallel(n_jobs=1)]: Done   4 out of   4 | elapsed:    0.0s remaining:    0.0s\n"
     ]
    },
    {
     "name": "stdout",
     "output_type": "stream",
     "text": [
      "Not setting metadata\n",
      "29 matching events found\n",
      "No baseline correction applied\n",
      "0 projection items activated\n",
      "Using data from preloaded Raw for 29 events and 6250 original time points ...\n",
      "0 bad epochs dropped\n",
      "Extracting EDF parameters from C:\\Users\\hpw\\OneDrive\\Documents\\pytorch course\\EEG 14S - 14H\\s07.edf...\n"
     ]
    },
    {
     "name": "stderr",
     "output_type": "stream",
     "text": [
      "[Parallel(n_jobs=1)]: Done  19 out of  19 | elapsed:    0.4s finished\n"
     ]
    },
    {
     "name": "stdout",
     "output_type": "stream",
     "text": [
      "EDF file detected\n",
      "Setting channel info structure...\n",
      "Creating raw.info structure...\n",
      "Reading 0 ... 336499  =      0.000 ...  1345.996 secs...\n",
      "EEG channel type selected for re-referencing\n",
      "Applying average reference.\n",
      "Applying a custom ('EEG',) reference.\n",
      "Filtering raw data in 1 contiguous segment\n",
      "Setting up band-pass filter from 1 - 45 Hz\n",
      "\n",
      "FIR filter parameters\n",
      "---------------------\n",
      "Designing a one-pass, zero-phase, non-causal bandpass filter:\n",
      "- Windowed time-domain design (firwin) method\n",
      "- Hamming window with 0.0194 passband ripple and 53 dB stopband attenuation\n",
      "- Lower passband edge: 1.00\n",
      "- Lower transition bandwidth: 1.00 Hz (-6 dB cutoff frequency: 0.50 Hz)\n",
      "- Upper passband edge: 45.00 Hz\n",
      "- Upper transition bandwidth: 11.25 Hz (-6 dB cutoff frequency: 50.62 Hz)\n",
      "- Filter length: 825 samples (3.300 s)\n",
      "\n"
     ]
    },
    {
     "name": "stderr",
     "output_type": "stream",
     "text": [
      "[Parallel(n_jobs=1)]: Using backend SequentialBackend with 1 concurrent workers.\n",
      "[Parallel(n_jobs=1)]: Done   1 out of   1 | elapsed:    0.0s remaining:    0.0s\n",
      "[Parallel(n_jobs=1)]: Done   2 out of   2 | elapsed:    0.0s remaining:    0.0s\n",
      "[Parallel(n_jobs=1)]: Done   3 out of   3 | elapsed:    0.0s remaining:    0.0s\n",
      "[Parallel(n_jobs=1)]: Done   4 out of   4 | elapsed:    0.0s remaining:    0.0s\n"
     ]
    },
    {
     "name": "stdout",
     "output_type": "stream",
     "text": [
      "Not setting metadata\n",
      "53 matching events found\n",
      "No baseline correction applied\n",
      "0 projection items activated\n",
      "Using data from preloaded Raw for 53 events and 6250 original time points ...\n"
     ]
    },
    {
     "name": "stderr",
     "output_type": "stream",
     "text": [
      "[Parallel(n_jobs=1)]: Done  19 out of  19 | elapsed:    0.5s finished\n"
     ]
    },
    {
     "name": "stdout",
     "output_type": "stream",
     "text": [
      "0 bad epochs dropped\n",
      "Extracting EDF parameters from C:\\Users\\hpw\\OneDrive\\Documents\\pytorch course\\EEG 14S - 14H\\s08.edf...\n",
      "EDF file detected\n",
      "Setting channel info structure...\n",
      "Creating raw.info structure...\n",
      "Reading 0 ... 227749  =      0.000 ...   910.996 secs...\n",
      "EEG channel type selected for re-referencing\n",
      "Applying average reference.\n",
      "Applying a custom ('EEG',) reference.\n",
      "Filtering raw data in 1 contiguous segment\n",
      "Setting up band-pass filter from 1 - 45 Hz\n",
      "\n",
      "FIR filter parameters\n",
      "---------------------\n",
      "Designing a one-pass, zero-phase, non-causal bandpass filter:\n",
      "- Windowed time-domain design (firwin) method\n",
      "- Hamming window with 0.0194 passband ripple and 53 dB stopband attenuation\n",
      "- Lower passband edge: 1.00\n",
      "- Lower transition bandwidth: 1.00 Hz (-6 dB cutoff frequency: 0.50 Hz)\n",
      "- Upper passband edge: 45.00 Hz\n",
      "- Upper transition bandwidth: 11.25 Hz (-6 dB cutoff frequency: 50.62 Hz)\n",
      "- Filter length: 825 samples (3.300 s)\n",
      "\n"
     ]
    },
    {
     "name": "stderr",
     "output_type": "stream",
     "text": [
      "[Parallel(n_jobs=1)]: Using backend SequentialBackend with 1 concurrent workers.\n",
      "[Parallel(n_jobs=1)]: Done   1 out of   1 | elapsed:    0.0s remaining:    0.0s\n",
      "[Parallel(n_jobs=1)]: Done   2 out of   2 | elapsed:    0.0s remaining:    0.0s\n",
      "[Parallel(n_jobs=1)]: Done   3 out of   3 | elapsed:    0.0s remaining:    0.0s\n",
      "[Parallel(n_jobs=1)]: Done   4 out of   4 | elapsed:    0.1s remaining:    0.0s\n"
     ]
    },
    {
     "name": "stdout",
     "output_type": "stream",
     "text": [
      "Not setting metadata\n",
      "36 matching events found\n",
      "No baseline correction applied\n",
      "0 projection items activated\n",
      "Using data from preloaded Raw for 36 events and 6250 original time points ...\n"
     ]
    },
    {
     "name": "stderr",
     "output_type": "stream",
     "text": [
      "[Parallel(n_jobs=1)]: Done  19 out of  19 | elapsed:    0.6s finished\n"
     ]
    },
    {
     "name": "stdout",
     "output_type": "stream",
     "text": [
      "0 bad epochs dropped\n",
      "Extracting EDF parameters from C:\\Users\\hpw\\OneDrive\\Documents\\pytorch course\\EEG 14S - 14H\\s09.edf...\n",
      "EDF file detected\n",
      "Setting channel info structure...\n",
      "Creating raw.info structure...\n",
      "Reading 0 ... 296249  =      0.000 ...  1184.996 secs...\n",
      "EEG channel type selected for re-referencing\n",
      "Applying average reference.\n",
      "Applying a custom ('EEG',) reference.\n",
      "Filtering raw data in 1 contiguous segment\n",
      "Setting up band-pass filter from 1 - 45 Hz\n",
      "\n",
      "FIR filter parameters\n",
      "---------------------\n",
      "Designing a one-pass, zero-phase, non-causal bandpass filter:\n",
      "- Windowed time-domain design (firwin) method\n",
      "- Hamming window with 0.0194 passband ripple and 53 dB stopband attenuation\n",
      "- Lower passband edge: 1.00\n",
      "- Lower transition bandwidth: 1.00 Hz (-6 dB cutoff frequency: 0.50 Hz)\n",
      "- Upper passband edge: 45.00 Hz\n",
      "- Upper transition bandwidth: 11.25 Hz (-6 dB cutoff frequency: 50.62 Hz)\n",
      "- Filter length: 825 samples (3.300 s)\n",
      "\n"
     ]
    },
    {
     "name": "stderr",
     "output_type": "stream",
     "text": [
      "[Parallel(n_jobs=1)]: Using backend SequentialBackend with 1 concurrent workers.\n",
      "[Parallel(n_jobs=1)]: Done   1 out of   1 | elapsed:    0.0s remaining:    0.0s\n",
      "[Parallel(n_jobs=1)]: Done   2 out of   2 | elapsed:    0.0s remaining:    0.0s\n",
      "[Parallel(n_jobs=1)]: Done   3 out of   3 | elapsed:    0.0s remaining:    0.0s\n",
      "[Parallel(n_jobs=1)]: Done   4 out of   4 | elapsed:    0.0s remaining:    0.0s\n"
     ]
    },
    {
     "name": "stdout",
     "output_type": "stream",
     "text": [
      "Not setting metadata\n",
      "47 matching events found\n",
      "No baseline correction applied\n",
      "0 projection items activated\n",
      "Using data from preloaded Raw for 47 events and 6250 original time points ...\n"
     ]
    },
    {
     "name": "stderr",
     "output_type": "stream",
     "text": [
      "[Parallel(n_jobs=1)]: Done  19 out of  19 | elapsed:    0.6s finished\n"
     ]
    },
    {
     "name": "stdout",
     "output_type": "stream",
     "text": [
      "0 bad epochs dropped\n",
      "Extracting EDF parameters from C:\\Users\\hpw\\OneDrive\\Documents\\pytorch course\\EEG 14S - 14H\\s10.edf...\n",
      "EDF file detected\n",
      "Setting channel info structure...\n",
      "Creating raw.info structure...\n",
      "Reading 0 ... 212499  =      0.000 ...   849.996 secs...\n",
      "EEG channel type selected for re-referencing\n",
      "Applying average reference.\n",
      "Applying a custom ('EEG',) reference.\n",
      "Filtering raw data in 1 contiguous segment\n",
      "Setting up band-pass filter from 1 - 45 Hz\n",
      "\n",
      "FIR filter parameters\n",
      "---------------------\n",
      "Designing a one-pass, zero-phase, non-causal bandpass filter:\n",
      "- Windowed time-domain design (firwin) method\n",
      "- Hamming window with 0.0194 passband ripple and 53 dB stopband attenuation\n",
      "- Lower passband edge: 1.00\n",
      "- Lower transition bandwidth: 1.00 Hz (-6 dB cutoff frequency: 0.50 Hz)\n",
      "- Upper passband edge: 45.00 Hz\n",
      "- Upper transition bandwidth: 11.25 Hz (-6 dB cutoff frequency: 50.62 Hz)\n",
      "- Filter length: 825 samples (3.300 s)\n",
      "\n"
     ]
    },
    {
     "name": "stderr",
     "output_type": "stream",
     "text": [
      "[Parallel(n_jobs=1)]: Using backend SequentialBackend with 1 concurrent workers.\n",
      "[Parallel(n_jobs=1)]: Done   1 out of   1 | elapsed:    0.0s remaining:    0.0s\n",
      "[Parallel(n_jobs=1)]: Done   2 out of   2 | elapsed:    0.0s remaining:    0.0s\n",
      "[Parallel(n_jobs=1)]: Done   3 out of   3 | elapsed:    0.0s remaining:    0.0s\n",
      "[Parallel(n_jobs=1)]: Done   4 out of   4 | elapsed:    0.1s remaining:    0.0s\n"
     ]
    },
    {
     "name": "stdout",
     "output_type": "stream",
     "text": [
      "Not setting metadata\n",
      "34 matching events found\n",
      "No baseline correction applied\n",
      "0 projection items activated\n",
      "Using data from preloaded Raw for 34 events and 6250 original time points ...\n",
      "0 bad epochs dropped\n"
     ]
    },
    {
     "name": "stderr",
     "output_type": "stream",
     "text": [
      "[Parallel(n_jobs=1)]: Done  19 out of  19 | elapsed:    0.5s finished\n"
     ]
    },
    {
     "name": "stdout",
     "output_type": "stream",
     "text": [
      "Extracting EDF parameters from C:\\Users\\hpw\\OneDrive\\Documents\\pytorch course\\EEG 14S - 14H\\s11.edf...\n",
      "EDF file detected\n",
      "Setting channel info structure...\n",
      "Creating raw.info structure...\n",
      "Reading 0 ... 339999  =      0.000 ...  1359.996 secs...\n",
      "EEG channel type selected for re-referencing\n",
      "Applying average reference.\n",
      "Applying a custom ('EEG',) reference.\n",
      "Filtering raw data in 1 contiguous segment\n",
      "Setting up band-pass filter from 1 - 45 Hz\n",
      "\n",
      "FIR filter parameters\n",
      "---------------------\n",
      "Designing a one-pass, zero-phase, non-causal bandpass filter:\n",
      "- Windowed time-domain design (firwin) method\n",
      "- Hamming window with 0.0194 passband ripple and 53 dB stopband attenuation\n",
      "- Lower passband edge: 1.00\n",
      "- Lower transition bandwidth: 1.00 Hz (-6 dB cutoff frequency: 0.50 Hz)\n",
      "- Upper passband edge: 45.00 Hz\n",
      "- Upper transition bandwidth: 11.25 Hz (-6 dB cutoff frequency: 50.62 Hz)\n",
      "- Filter length: 825 samples (3.300 s)\n",
      "\n"
     ]
    },
    {
     "name": "stderr",
     "output_type": "stream",
     "text": [
      "[Parallel(n_jobs=1)]: Using backend SequentialBackend with 1 concurrent workers.\n",
      "[Parallel(n_jobs=1)]: Done   1 out of   1 | elapsed:    0.0s remaining:    0.0s\n",
      "[Parallel(n_jobs=1)]: Done   2 out of   2 | elapsed:    0.0s remaining:    0.0s\n",
      "[Parallel(n_jobs=1)]: Done   3 out of   3 | elapsed:    0.0s remaining:    0.0s\n",
      "[Parallel(n_jobs=1)]: Done   4 out of   4 | elapsed:    0.0s remaining:    0.0s\n"
     ]
    },
    {
     "name": "stdout",
     "output_type": "stream",
     "text": [
      "Not setting metadata\n",
      "54 matching events found\n",
      "No baseline correction applied\n",
      "0 projection items activated\n",
      "Using data from preloaded Raw for 54 events and 6250 original time points ...\n"
     ]
    },
    {
     "name": "stderr",
     "output_type": "stream",
     "text": [
      "[Parallel(n_jobs=1)]: Done  19 out of  19 | elapsed:    0.7s finished\n"
     ]
    },
    {
     "name": "stdout",
     "output_type": "stream",
     "text": [
      "0 bad epochs dropped\n",
      "Extracting EDF parameters from C:\\Users\\hpw\\OneDrive\\Documents\\pytorch course\\EEG 14S - 14H\\s12.edf...\n",
      "EDF file detected\n",
      "Setting channel info structure...\n",
      "Creating raw.info structure...\n",
      "Reading 0 ... 271749  =      0.000 ...  1086.996 secs...\n",
      "EEG channel type selected for re-referencing\n",
      "Applying average reference.\n",
      "Applying a custom ('EEG',) reference.\n",
      "Filtering raw data in 1 contiguous segment\n",
      "Setting up band-pass filter from 1 - 45 Hz\n",
      "\n",
      "FIR filter parameters\n",
      "---------------------\n",
      "Designing a one-pass, zero-phase, non-causal bandpass filter:\n",
      "- Windowed time-domain design (firwin) method\n",
      "- Hamming window with 0.0194 passband ripple and 53 dB stopband attenuation\n",
      "- Lower passband edge: 1.00\n",
      "- Lower transition bandwidth: 1.00 Hz (-6 dB cutoff frequency: 0.50 Hz)\n",
      "- Upper passband edge: 45.00 Hz\n",
      "- Upper transition bandwidth: 11.25 Hz (-6 dB cutoff frequency: 50.62 Hz)\n",
      "- Filter length: 825 samples (3.300 s)\n",
      "\n"
     ]
    },
    {
     "name": "stderr",
     "output_type": "stream",
     "text": [
      "[Parallel(n_jobs=1)]: Using backend SequentialBackend with 1 concurrent workers.\n",
      "[Parallel(n_jobs=1)]: Done   1 out of   1 | elapsed:    0.0s remaining:    0.0s\n",
      "[Parallel(n_jobs=1)]: Done   2 out of   2 | elapsed:    0.0s remaining:    0.0s\n",
      "[Parallel(n_jobs=1)]: Done   3 out of   3 | elapsed:    0.0s remaining:    0.0s\n",
      "[Parallel(n_jobs=1)]: Done   4 out of   4 | elapsed:    0.1s remaining:    0.0s\n"
     ]
    },
    {
     "name": "stdout",
     "output_type": "stream",
     "text": [
      "Not setting metadata\n",
      "43 matching events found\n",
      "No baseline correction applied\n",
      "0 projection items activated\n",
      "Using data from preloaded Raw for 43 events and 6250 original time points ...\n"
     ]
    },
    {
     "name": "stderr",
     "output_type": "stream",
     "text": [
      "[Parallel(n_jobs=1)]: Done  19 out of  19 | elapsed:    0.6s finished\n"
     ]
    },
    {
     "name": "stdout",
     "output_type": "stream",
     "text": [
      "0 bad epochs dropped\n",
      "Extracting EDF parameters from C:\\Users\\hpw\\OneDrive\\Documents\\pytorch course\\EEG 14S - 14H\\s13.edf...\n",
      "EDF file detected\n",
      "Setting channel info structure...\n",
      "Creating raw.info structure...\n",
      "Reading 0 ... 283749  =      0.000 ...  1134.996 secs...\n",
      "EEG channel type selected for re-referencing\n",
      "Applying average reference.\n",
      "Applying a custom ('EEG',) reference.\n",
      "Filtering raw data in 1 contiguous segment\n",
      "Setting up band-pass filter from 1 - 45 Hz\n",
      "\n",
      "FIR filter parameters\n",
      "---------------------\n",
      "Designing a one-pass, zero-phase, non-causal bandpass filter:\n",
      "- Windowed time-domain design (firwin) method\n",
      "- Hamming window with 0.0194 passband ripple and 53 dB stopband attenuation\n",
      "- Lower passband edge: 1.00\n",
      "- Lower transition bandwidth: 1.00 Hz (-6 dB cutoff frequency: 0.50 Hz)\n",
      "- Upper passband edge: 45.00 Hz\n",
      "- Upper transition bandwidth: 11.25 Hz (-6 dB cutoff frequency: 50.62 Hz)\n",
      "- Filter length: 825 samples (3.300 s)\n",
      "\n"
     ]
    },
    {
     "name": "stderr",
     "output_type": "stream",
     "text": [
      "[Parallel(n_jobs=1)]: Using backend SequentialBackend with 1 concurrent workers.\n",
      "[Parallel(n_jobs=1)]: Done   1 out of   1 | elapsed:    0.0s remaining:    0.0s\n",
      "[Parallel(n_jobs=1)]: Done   2 out of   2 | elapsed:    0.0s remaining:    0.0s\n",
      "[Parallel(n_jobs=1)]: Done   3 out of   3 | elapsed:    0.0s remaining:    0.0s\n",
      "[Parallel(n_jobs=1)]: Done   4 out of   4 | elapsed:    0.0s remaining:    0.0s\n"
     ]
    },
    {
     "name": "stdout",
     "output_type": "stream",
     "text": [
      "Not setting metadata\n",
      "45 matching events found\n",
      "No baseline correction applied\n",
      "0 projection items activated\n",
      "Using data from preloaded Raw for 45 events and 6250 original time points ...\n"
     ]
    },
    {
     "name": "stderr",
     "output_type": "stream",
     "text": [
      "[Parallel(n_jobs=1)]: Done  19 out of  19 | elapsed:    0.6s finished\n"
     ]
    },
    {
     "name": "stdout",
     "output_type": "stream",
     "text": [
      "0 bad epochs dropped\n",
      "Extracting EDF parameters from C:\\Users\\hpw\\OneDrive\\Documents\\pytorch course\\EEG 14S - 14H\\s14.edf...\n",
      "EDF file detected\n",
      "Setting channel info structure...\n",
      "Creating raw.info structure...\n",
      "Reading 0 ... 542499  =      0.000 ...  2169.996 secs...\n",
      "EEG channel type selected for re-referencing\n",
      "Applying average reference.\n",
      "Applying a custom ('EEG',) reference.\n",
      "Filtering raw data in 1 contiguous segment\n",
      "Setting up band-pass filter from 1 - 45 Hz\n",
      "\n",
      "FIR filter parameters\n",
      "---------------------\n",
      "Designing a one-pass, zero-phase, non-causal bandpass filter:\n",
      "- Windowed time-domain design (firwin) method\n",
      "- Hamming window with 0.0194 passband ripple and 53 dB stopband attenuation\n",
      "- Lower passband edge: 1.00\n",
      "- Lower transition bandwidth: 1.00 Hz (-6 dB cutoff frequency: 0.50 Hz)\n",
      "- Upper passband edge: 45.00 Hz\n",
      "- Upper transition bandwidth: 11.25 Hz (-6 dB cutoff frequency: 50.62 Hz)\n",
      "- Filter length: 825 samples (3.300 s)\n",
      "\n"
     ]
    },
    {
     "name": "stderr",
     "output_type": "stream",
     "text": [
      "[Parallel(n_jobs=1)]: Using backend SequentialBackend with 1 concurrent workers.\n",
      "[Parallel(n_jobs=1)]: Done   1 out of   1 | elapsed:    0.0s remaining:    0.0s\n",
      "[Parallel(n_jobs=1)]: Done   2 out of   2 | elapsed:    0.0s remaining:    0.0s\n",
      "[Parallel(n_jobs=1)]: Done   3 out of   3 | elapsed:    0.1s remaining:    0.0s\n",
      "[Parallel(n_jobs=1)]: Done   4 out of   4 | elapsed:    0.2s remaining:    0.0s\n"
     ]
    },
    {
     "name": "stdout",
     "output_type": "stream",
     "text": [
      "Not setting metadata\n",
      "86 matching events found\n",
      "No baseline correction applied\n",
      "0 projection items activated\n",
      "Using data from preloaded Raw for 86 events and 6250 original time points ...\n"
     ]
    },
    {
     "name": "stderr",
     "output_type": "stream",
     "text": [
      "[Parallel(n_jobs=1)]: Done  19 out of  19 | elapsed:    1.1s finished\n"
     ]
    },
    {
     "name": "stdout",
     "output_type": "stream",
     "text": [
      "0 bad epochs dropped\n"
     ]
    }
   ],
   "source": [
    "control_epochs_array=[read_data(subject) for subject in healthy_file_path]\n",
    "patients_epochs_array=[read_data(subject) for subject in patient_file_path]"
   ]
  },
  {
   "cell_type": "code",
   "execution_count": 9,
   "id": "5afeec79",
   "metadata": {},
   "outputs": [
    {
     "name": "stdout",
     "output_type": "stream",
     "text": [
      "14 14\n"
     ]
    }
   ],
   "source": [
    "control_epochs_labels=[len(i)*[0] for i in control_epochs_array]\n",
    "patients_epochs_labels=[len(i)*[1] for i in patients_epochs_array]\n",
    "print(len(control_epochs_labels),len(patients_epochs_labels))"
   ]
  },
  {
   "cell_type": "code",
   "execution_count": 10,
   "id": "465af762",
   "metadata": {},
   "outputs": [
    {
     "name": "stdout",
     "output_type": "stream",
     "text": [
      "28 28\n"
     ]
    }
   ],
   "source": [
    "data_list=control_epochs_array+patients_epochs_array\n",
    "label_list=control_epochs_labels+patients_epochs_labels\n",
    "print(len(data_list),len(label_list))"
   ]
  },
  {
   "cell_type": "code",
   "execution_count": 11,
   "id": "ce8d2f05",
   "metadata": {},
   "outputs": [],
   "source": [
    "groups_list=[[i]*len(j) for i, j in enumerate(data_list)]"
   ]
  },
  {
   "cell_type": "code",
   "execution_count": 12,
   "id": "f572d1b3",
   "metadata": {},
   "outputs": [
    {
     "name": "stdout",
     "output_type": "stream",
     "text": [
      "(1142, 19, 6250) (1142,) (1142,)\n"
     ]
    }
   ],
   "source": [
    "data_array=np.vstack(data_list)\n",
    "label_array=np.hstack(label_list)\n",
    "group_array=np.hstack(groups_list)\n",
    "print(data_array.shape,label_array.shape,group_array.shape)"
   ]
  },
  {
   "cell_type": "code",
   "execution_count": 13,
   "id": "42d6176c",
   "metadata": {},
   "outputs": [],
   "source": [
    "from scipy import stats\n",
    "def mean(data):\n",
    "    return np.mean(data,axis=-1)\n",
    "    \n",
    "def std(data):\n",
    "    return np.std(data,axis=-1)\n",
    "\n",
    "def ptp(data):\n",
    "    return np.ptp(data,axis=-1)\n",
    "\n",
    "def var(data):\n",
    "        return np.var(data,axis=-1)\n",
    "\n",
    "def minim(data):\n",
    "      return np.min(data,axis=-1)\n",
    "\n",
    "\n",
    "def maxim(data):\n",
    "      return np.max(data,axis=-1)\n",
    "\n",
    "def argminim(data):\n",
    "      return np.argmin(data,axis=-1)\n",
    "\n",
    "\n",
    "def argmaxim(data):\n",
    "      return np.argmax(data,axis=-1)\n",
    "\n",
    "def mean_square(data):\n",
    "      return np.mean(data**2,axis=-1)\n",
    "\n",
    "def rms(data): #root mean square\n",
    "      return  np.sqrt(np.mean(data**2,axis=-1))  \n",
    "\n",
    "def abs_diffs_signal(data):\n",
    "    return np.sum(np.abs(np.diff(data,axis=-1)),axis=-1)\n",
    "\n",
    "\n",
    "def skewness(data):\n",
    "    return stats.skew(data,axis=-1)\n",
    "\n",
    "def kurtosis(data):\n",
    "    return stats.kurtosis(data,axis=-1)\n",
    "\n",
    "def concatenate_features(data):\n",
    "    return np.concatenate((mean(data),std(data),ptp(data),var(data),minim(data),maxim(data),argminim(data),argmaxim(data),\n",
    "                          mean_square(data),rms(data),abs_diffs_signal(data),\n",
    "                          skewness(data),kurtosis(data)),axis=-1)"
   ]
  },
  {
   "cell_type": "code",
   "execution_count": 14,
   "id": "ab917bca",
   "metadata": {},
   "outputs": [
    {
     "name": "stderr",
     "output_type": "stream",
     "text": [
      "C:\\Users\\hpw\\AppData\\Local\\Temp\\ipykernel_11444\\3783067424.py:3: TqdmDeprecationWarning: This function will be removed in tqdm==5.0.0\n",
      "Please use `tqdm.notebook.tqdm` instead of `tqdm.tqdm_notebook`\n",
      "  for data in tqdm_notebook(data_array):\n"
     ]
    },
    {
     "data": {
      "application/vnd.jupyter.widget-view+json": {
       "model_id": "a8d4cc7e61634cdaaf00edf9405f9d83",
       "version_major": 2,
       "version_minor": 0
      },
      "text/plain": [
       "  0%|          | 0/1142 [00:00<?, ?it/s]"
      ]
     },
     "metadata": {},
     "output_type": "display_data"
    },
    {
     "data": {
      "text/plain": [
       "(1142, 247)"
      ]
     },
     "execution_count": 14,
     "metadata": {},
     "output_type": "execute_result"
    }
   ],
   "source": [
    "from tqdm import tqdm_notebook\n",
    "features=[]\n",
    "for data in tqdm_notebook(data_array):\n",
    "    features.append(concatenate_features(data))\n",
    "features=np.array(features)\n",
    "features.shape"
   ]
  },
  {
   "cell_type": "code",
   "execution_count": 15,
   "id": "4e08320f",
   "metadata": {},
   "outputs": [],
   "source": [
    "from sklearn.linear_model import LogisticRegression\n",
    "from sklearn.pipeline import Pipeline\n",
    "from sklearn.preprocessing import StandardScaler\n",
    "from sklearn.model_selection import GroupKFold,GridSearchCV,cross_val_score,cross_validate"
   ]
  },
  {
   "cell_type": "code",
   "execution_count": 16,
   "id": "2b940ebd",
   "metadata": {},
   "outputs": [
    {
     "data": {
      "text/html": [
       "<style>#sk-container-id-1 {color: black;background-color: white;}#sk-container-id-1 pre{padding: 0;}#sk-container-id-1 div.sk-toggleable {background-color: white;}#sk-container-id-1 label.sk-toggleable__label {cursor: pointer;display: block;width: 100%;margin-bottom: 0;padding: 0.3em;box-sizing: border-box;text-align: center;}#sk-container-id-1 label.sk-toggleable__label-arrow:before {content: \"▸\";float: left;margin-right: 0.25em;color: #696969;}#sk-container-id-1 label.sk-toggleable__label-arrow:hover:before {color: black;}#sk-container-id-1 div.sk-estimator:hover label.sk-toggleable__label-arrow:before {color: black;}#sk-container-id-1 div.sk-toggleable__content {max-height: 0;max-width: 0;overflow: hidden;text-align: left;background-color: #f0f8ff;}#sk-container-id-1 div.sk-toggleable__content pre {margin: 0.2em;color: black;border-radius: 0.25em;background-color: #f0f8ff;}#sk-container-id-1 input.sk-toggleable__control:checked~div.sk-toggleable__content {max-height: 200px;max-width: 100%;overflow: auto;}#sk-container-id-1 input.sk-toggleable__control:checked~label.sk-toggleable__label-arrow:before {content: \"▾\";}#sk-container-id-1 div.sk-estimator input.sk-toggleable__control:checked~label.sk-toggleable__label {background-color: #d4ebff;}#sk-container-id-1 div.sk-label input.sk-toggleable__control:checked~label.sk-toggleable__label {background-color: #d4ebff;}#sk-container-id-1 input.sk-hidden--visually {border: 0;clip: rect(1px 1px 1px 1px);clip: rect(1px, 1px, 1px, 1px);height: 1px;margin: -1px;overflow: hidden;padding: 0;position: absolute;width: 1px;}#sk-container-id-1 div.sk-estimator {font-family: monospace;background-color: #f0f8ff;border: 1px dotted black;border-radius: 0.25em;box-sizing: border-box;margin-bottom: 0.5em;}#sk-container-id-1 div.sk-estimator:hover {background-color: #d4ebff;}#sk-container-id-1 div.sk-parallel-item::after {content: \"\";width: 100%;border-bottom: 1px solid gray;flex-grow: 1;}#sk-container-id-1 div.sk-label:hover label.sk-toggleable__label {background-color: #d4ebff;}#sk-container-id-1 div.sk-serial::before {content: \"\";position: absolute;border-left: 1px solid gray;box-sizing: border-box;top: 0;bottom: 0;left: 50%;z-index: 0;}#sk-container-id-1 div.sk-serial {display: flex;flex-direction: column;align-items: center;background-color: white;padding-right: 0.2em;padding-left: 0.2em;position: relative;}#sk-container-id-1 div.sk-item {position: relative;z-index: 1;}#sk-container-id-1 div.sk-parallel {display: flex;align-items: stretch;justify-content: center;background-color: white;position: relative;}#sk-container-id-1 div.sk-item::before, #sk-container-id-1 div.sk-parallel-item::before {content: \"\";position: absolute;border-left: 1px solid gray;box-sizing: border-box;top: 0;bottom: 0;left: 50%;z-index: -1;}#sk-container-id-1 div.sk-parallel-item {display: flex;flex-direction: column;z-index: 1;position: relative;background-color: white;}#sk-container-id-1 div.sk-parallel-item:first-child::after {align-self: flex-end;width: 50%;}#sk-container-id-1 div.sk-parallel-item:last-child::after {align-self: flex-start;width: 50%;}#sk-container-id-1 div.sk-parallel-item:only-child::after {width: 0;}#sk-container-id-1 div.sk-dashed-wrapped {border: 1px dashed gray;margin: 0 0.4em 0.5em 0.4em;box-sizing: border-box;padding-bottom: 0.4em;background-color: white;}#sk-container-id-1 div.sk-label label {font-family: monospace;font-weight: bold;display: inline-block;line-height: 1.2em;}#sk-container-id-1 div.sk-label-container {text-align: center;}#sk-container-id-1 div.sk-container {/* jupyter's `normalize.less` sets `[hidden] { display: none; }` but bootstrap.min.css set `[hidden] { display: none !important; }` so we also need the `!important` here to be able to override the default hidden behavior on the sphinx rendered scikit-learn.org. See: https://github.com/scikit-learn/scikit-learn/issues/21755 */display: inline-block !important;position: relative;}#sk-container-id-1 div.sk-text-repr-fallback {display: none;}</style><div id=\"sk-container-id-1\" class=\"sk-top-container\"><div class=\"sk-text-repr-fallback\"><pre>GridSearchCV(cv=GroupKFold(n_splits=5),\n",
       "             estimator=Pipeline(steps=[(&#x27;scaler&#x27;, StandardScaler()),\n",
       "                                       (&#x27;classifier&#x27;, LogisticRegression())]),\n",
       "             n_jobs=16,\n",
       "             param_grid={&#x27;classifier__C&#x27;: [0.01, 0.05, 0.1, 0.5, 1, 2, 3, 4, 5,\n",
       "                                           8, 10, 12, 15]})</pre><b>In a Jupyter environment, please rerun this cell to show the HTML representation or trust the notebook. <br />On GitHub, the HTML representation is unable to render, please try loading this page with nbviewer.org.</b></div><div class=\"sk-container\" hidden><div class=\"sk-item sk-dashed-wrapped\"><div class=\"sk-label-container\"><div class=\"sk-label sk-toggleable\"><input class=\"sk-toggleable__control sk-hidden--visually\" id=\"sk-estimator-id-1\" type=\"checkbox\" ><label for=\"sk-estimator-id-1\" class=\"sk-toggleable__label sk-toggleable__label-arrow\">GridSearchCV</label><div class=\"sk-toggleable__content\"><pre>GridSearchCV(cv=GroupKFold(n_splits=5),\n",
       "             estimator=Pipeline(steps=[(&#x27;scaler&#x27;, StandardScaler()),\n",
       "                                       (&#x27;classifier&#x27;, LogisticRegression())]),\n",
       "             n_jobs=16,\n",
       "             param_grid={&#x27;classifier__C&#x27;: [0.01, 0.05, 0.1, 0.5, 1, 2, 3, 4, 5,\n",
       "                                           8, 10, 12, 15]})</pre></div></div></div><div class=\"sk-parallel\"><div class=\"sk-parallel-item\"><div class=\"sk-item\"><div class=\"sk-label-container\"><div class=\"sk-label sk-toggleable\"><input class=\"sk-toggleable__control sk-hidden--visually\" id=\"sk-estimator-id-2\" type=\"checkbox\" ><label for=\"sk-estimator-id-2\" class=\"sk-toggleable__label sk-toggleable__label-arrow\">estimator: Pipeline</label><div class=\"sk-toggleable__content\"><pre>Pipeline(steps=[(&#x27;scaler&#x27;, StandardScaler()),\n",
       "                (&#x27;classifier&#x27;, LogisticRegression())])</pre></div></div></div><div class=\"sk-serial\"><div class=\"sk-item\"><div class=\"sk-serial\"><div class=\"sk-item\"><div class=\"sk-estimator sk-toggleable\"><input class=\"sk-toggleable__control sk-hidden--visually\" id=\"sk-estimator-id-3\" type=\"checkbox\" ><label for=\"sk-estimator-id-3\" class=\"sk-toggleable__label sk-toggleable__label-arrow\">StandardScaler</label><div class=\"sk-toggleable__content\"><pre>StandardScaler()</pre></div></div></div><div class=\"sk-item\"><div class=\"sk-estimator sk-toggleable\"><input class=\"sk-toggleable__control sk-hidden--visually\" id=\"sk-estimator-id-4\" type=\"checkbox\" ><label for=\"sk-estimator-id-4\" class=\"sk-toggleable__label sk-toggleable__label-arrow\">LogisticRegression</label><div class=\"sk-toggleable__content\"><pre>LogisticRegression()</pre></div></div></div></div></div></div></div></div></div></div></div></div>"
      ],
      "text/plain": [
       "GridSearchCV(cv=GroupKFold(n_splits=5),\n",
       "             estimator=Pipeline(steps=[('scaler', StandardScaler()),\n",
       "                                       ('classifier', LogisticRegression())]),\n",
       "             n_jobs=16,\n",
       "             param_grid={'classifier__C': [0.01, 0.05, 0.1, 0.5, 1, 2, 3, 4, 5,\n",
       "                                           8, 10, 12, 15]})"
      ]
     },
     "execution_count": 16,
     "metadata": {},
     "output_type": "execute_result"
    }
   ],
   "source": [
    "clf=LogisticRegression()\n",
    "gkf=GroupKFold(n_splits=5)\n",
    "param_grid = {'classifier__C': [0.01,0.05,0.1,0.5, 1,2,3,4,5,8, 10,12,15]}\n",
    "pipe=Pipeline([('scaler',StandardScaler()),('classifier',clf)])\n",
    "gscv=GridSearchCV(pipe,param_grid,cv=gkf,n_jobs=16)\n",
    "gscv.fit(features,label_array,groups=group_array)\n"
   ]
  },
  {
   "cell_type": "code",
   "execution_count": 17,
   "id": "3df640a8",
   "metadata": {},
   "outputs": [
    {
     "data": {
      "text/html": [
       "<style>#sk-container-id-2 {color: black;background-color: white;}#sk-container-id-2 pre{padding: 0;}#sk-container-id-2 div.sk-toggleable {background-color: white;}#sk-container-id-2 label.sk-toggleable__label {cursor: pointer;display: block;width: 100%;margin-bottom: 0;padding: 0.3em;box-sizing: border-box;text-align: center;}#sk-container-id-2 label.sk-toggleable__label-arrow:before {content: \"▸\";float: left;margin-right: 0.25em;color: #696969;}#sk-container-id-2 label.sk-toggleable__label-arrow:hover:before {color: black;}#sk-container-id-2 div.sk-estimator:hover label.sk-toggleable__label-arrow:before {color: black;}#sk-container-id-2 div.sk-toggleable__content {max-height: 0;max-width: 0;overflow: hidden;text-align: left;background-color: #f0f8ff;}#sk-container-id-2 div.sk-toggleable__content pre {margin: 0.2em;color: black;border-radius: 0.25em;background-color: #f0f8ff;}#sk-container-id-2 input.sk-toggleable__control:checked~div.sk-toggleable__content {max-height: 200px;max-width: 100%;overflow: auto;}#sk-container-id-2 input.sk-toggleable__control:checked~label.sk-toggleable__label-arrow:before {content: \"▾\";}#sk-container-id-2 div.sk-estimator input.sk-toggleable__control:checked~label.sk-toggleable__label {background-color: #d4ebff;}#sk-container-id-2 div.sk-label input.sk-toggleable__control:checked~label.sk-toggleable__label {background-color: #d4ebff;}#sk-container-id-2 input.sk-hidden--visually {border: 0;clip: rect(1px 1px 1px 1px);clip: rect(1px, 1px, 1px, 1px);height: 1px;margin: -1px;overflow: hidden;padding: 0;position: absolute;width: 1px;}#sk-container-id-2 div.sk-estimator {font-family: monospace;background-color: #f0f8ff;border: 1px dotted black;border-radius: 0.25em;box-sizing: border-box;margin-bottom: 0.5em;}#sk-container-id-2 div.sk-estimator:hover {background-color: #d4ebff;}#sk-container-id-2 div.sk-parallel-item::after {content: \"\";width: 100%;border-bottom: 1px solid gray;flex-grow: 1;}#sk-container-id-2 div.sk-label:hover label.sk-toggleable__label {background-color: #d4ebff;}#sk-container-id-2 div.sk-serial::before {content: \"\";position: absolute;border-left: 1px solid gray;box-sizing: border-box;top: 0;bottom: 0;left: 50%;z-index: 0;}#sk-container-id-2 div.sk-serial {display: flex;flex-direction: column;align-items: center;background-color: white;padding-right: 0.2em;padding-left: 0.2em;position: relative;}#sk-container-id-2 div.sk-item {position: relative;z-index: 1;}#sk-container-id-2 div.sk-parallel {display: flex;align-items: stretch;justify-content: center;background-color: white;position: relative;}#sk-container-id-2 div.sk-item::before, #sk-container-id-2 div.sk-parallel-item::before {content: \"\";position: absolute;border-left: 1px solid gray;box-sizing: border-box;top: 0;bottom: 0;left: 50%;z-index: -1;}#sk-container-id-2 div.sk-parallel-item {display: flex;flex-direction: column;z-index: 1;position: relative;background-color: white;}#sk-container-id-2 div.sk-parallel-item:first-child::after {align-self: flex-end;width: 50%;}#sk-container-id-2 div.sk-parallel-item:last-child::after {align-self: flex-start;width: 50%;}#sk-container-id-2 div.sk-parallel-item:only-child::after {width: 0;}#sk-container-id-2 div.sk-dashed-wrapped {border: 1px dashed gray;margin: 0 0.4em 0.5em 0.4em;box-sizing: border-box;padding-bottom: 0.4em;background-color: white;}#sk-container-id-2 div.sk-label label {font-family: monospace;font-weight: bold;display: inline-block;line-height: 1.2em;}#sk-container-id-2 div.sk-label-container {text-align: center;}#sk-container-id-2 div.sk-container {/* jupyter's `normalize.less` sets `[hidden] { display: none; }` but bootstrap.min.css set `[hidden] { display: none !important; }` so we also need the `!important` here to be able to override the default hidden behavior on the sphinx rendered scikit-learn.org. See: https://github.com/scikit-learn/scikit-learn/issues/21755 */display: inline-block !important;position: relative;}#sk-container-id-2 div.sk-text-repr-fallback {display: none;}</style><div id=\"sk-container-id-2\" class=\"sk-top-container\"><div class=\"sk-text-repr-fallback\"><pre>GridSearchCV(cv=GroupKFold(n_splits=5),\n",
       "             estimator=Pipeline(steps=[(&#x27;scaler&#x27;, StandardScaler()),\n",
       "                                       (&#x27;classifier&#x27;, LogisticRegression())]),\n",
       "             n_jobs=16,\n",
       "             param_grid={&#x27;classifier__C&#x27;: [0.01, 0.05, 0.1, 0.5, 1, 2, 3, 4, 5,\n",
       "                                           8, 10, 12, 15]})</pre><b>In a Jupyter environment, please rerun this cell to show the HTML representation or trust the notebook. <br />On GitHub, the HTML representation is unable to render, please try loading this page with nbviewer.org.</b></div><div class=\"sk-container\" hidden><div class=\"sk-item sk-dashed-wrapped\"><div class=\"sk-label-container\"><div class=\"sk-label sk-toggleable\"><input class=\"sk-toggleable__control sk-hidden--visually\" id=\"sk-estimator-id-5\" type=\"checkbox\" ><label for=\"sk-estimator-id-5\" class=\"sk-toggleable__label sk-toggleable__label-arrow\">GridSearchCV</label><div class=\"sk-toggleable__content\"><pre>GridSearchCV(cv=GroupKFold(n_splits=5),\n",
       "             estimator=Pipeline(steps=[(&#x27;scaler&#x27;, StandardScaler()),\n",
       "                                       (&#x27;classifier&#x27;, LogisticRegression())]),\n",
       "             n_jobs=16,\n",
       "             param_grid={&#x27;classifier__C&#x27;: [0.01, 0.05, 0.1, 0.5, 1, 2, 3, 4, 5,\n",
       "                                           8, 10, 12, 15]})</pre></div></div></div><div class=\"sk-parallel\"><div class=\"sk-parallel-item\"><div class=\"sk-item\"><div class=\"sk-label-container\"><div class=\"sk-label sk-toggleable\"><input class=\"sk-toggleable__control sk-hidden--visually\" id=\"sk-estimator-id-6\" type=\"checkbox\" ><label for=\"sk-estimator-id-6\" class=\"sk-toggleable__label sk-toggleable__label-arrow\">estimator: Pipeline</label><div class=\"sk-toggleable__content\"><pre>Pipeline(steps=[(&#x27;scaler&#x27;, StandardScaler()),\n",
       "                (&#x27;classifier&#x27;, LogisticRegression())])</pre></div></div></div><div class=\"sk-serial\"><div class=\"sk-item\"><div class=\"sk-serial\"><div class=\"sk-item\"><div class=\"sk-estimator sk-toggleable\"><input class=\"sk-toggleable__control sk-hidden--visually\" id=\"sk-estimator-id-7\" type=\"checkbox\" ><label for=\"sk-estimator-id-7\" class=\"sk-toggleable__label sk-toggleable__label-arrow\">StandardScaler</label><div class=\"sk-toggleable__content\"><pre>StandardScaler()</pre></div></div></div><div class=\"sk-item\"><div class=\"sk-estimator sk-toggleable\"><input class=\"sk-toggleable__control sk-hidden--visually\" id=\"sk-estimator-id-8\" type=\"checkbox\" ><label for=\"sk-estimator-id-8\" class=\"sk-toggleable__label sk-toggleable__label-arrow\">LogisticRegression</label><div class=\"sk-toggleable__content\"><pre>LogisticRegression()</pre></div></div></div></div></div></div></div></div></div></div></div></div>"
      ],
      "text/plain": [
       "GridSearchCV(cv=GroupKFold(n_splits=5),\n",
       "             estimator=Pipeline(steps=[('scaler', StandardScaler()),\n",
       "                                       ('classifier', LogisticRegression())]),\n",
       "             n_jobs=16,\n",
       "             param_grid={'classifier__C': [0.01, 0.05, 0.1, 0.5, 1, 2, 3, 4, 5,\n",
       "                                           8, 10, 12, 15]})"
      ]
     },
     "execution_count": 17,
     "metadata": {},
     "output_type": "execute_result"
    }
   ],
   "source": [
    "GridSearchCV(cv=GroupKFold(n_splits=5),\n",
    "             estimator=Pipeline(steps=[('scaler', StandardScaler()),\n",
    "                                       ('classifier', LogisticRegression())]),\n",
    "             n_jobs=16,\n",
    "             param_grid={'classifier__C': [0.01, 0.05, 0.1, 0.5, 1, 2, 3, 4, 5,\n",
    "                                           8, 10, 12, 15]})"
   ]
  },
  {
   "cell_type": "code",
   "execution_count": 18,
   "id": "f02af774",
   "metadata": {},
   "outputs": [
    {
     "data": {
      "text/plain": [
       "0.6675119125460665"
      ]
     },
     "execution_count": 18,
     "metadata": {},
     "output_type": "execute_result"
    }
   ],
   "source": [
    "gscv.best_score_"
   ]
  },
  {
   "cell_type": "code",
   "execution_count": 19,
   "id": "88d66590",
   "metadata": {},
   "outputs": [],
   "source": [
    "data_array=np.moveaxis(data_array,1,2)"
   ]
  },
  {
   "cell_type": "code",
   "execution_count": 20,
   "id": "c907f03f",
   "metadata": {},
   "outputs": [
    {
     "name": "stdout",
     "output_type": "stream",
     "text": [
      "Model: \"sequential\"\n",
      "_________________________________________________________________\n",
      " Layer (type)                Output Shape              Param #   \n",
      "=================================================================\n",
      " conv1d (Conv1D)             (None, 6248, 5)           290       \n",
      "                                                                 \n",
      " batch_normalization (BatchN  (None, 6248, 5)          20        \n",
      " ormalization)                                                   \n",
      "                                                                 \n",
      " leaky_re_lu (LeakyReLU)     (None, 6248, 5)           0         \n",
      "                                                                 \n",
      " max_pooling1d (MaxPooling1D  (None, 3124, 5)          0         \n",
      " )                                                               \n",
      "                                                                 \n",
      " conv1d_1 (Conv1D)           (None, 3122, 5)           80        \n",
      "                                                                 \n",
      " leaky_re_lu_1 (LeakyReLU)   (None, 3122, 5)           0         \n",
      "                                                                 \n",
      " max_pooling1d_1 (MaxPooling  (None, 1561, 5)          0         \n",
      " 1D)                                                             \n",
      "                                                                 \n",
      " dropout (Dropout)           (None, 1561, 5)           0         \n",
      "                                                                 \n",
      " conv1d_2 (Conv1D)           (None, 1559, 5)           80        \n",
      "                                                                 \n",
      " leaky_re_lu_2 (LeakyReLU)   (None, 1559, 5)           0         \n",
      "                                                                 \n",
      " average_pooling1d (AverageP  (None, 779, 5)           0         \n",
      " ooling1D)                                                       \n",
      "                                                                 \n",
      " dropout_1 (Dropout)         (None, 779, 5)            0         \n",
      "                                                                 \n",
      " conv1d_3 (Conv1D)           (None, 777, 5)            80        \n",
      "                                                                 \n",
      " leaky_re_lu_3 (LeakyReLU)   (None, 777, 5)            0         \n",
      "                                                                 \n",
      " average_pooling1d_1 (Averag  (None, 388, 5)           0         \n",
      " ePooling1D)                                                     \n",
      "                                                                 \n",
      " conv1d_4 (Conv1D)           (None, 386, 5)            80        \n",
      "                                                                 \n",
      " leaky_re_lu_4 (LeakyReLU)   (None, 386, 5)            0         \n",
      "                                                                 \n",
      " global_average_pooling1d (G  (None, 5)                0         \n",
      " lobalAveragePooling1D)                                          \n",
      "                                                                 \n",
      " dense (Dense)               (None, 1)                 6         \n",
      "                                                                 \n",
      "=================================================================\n",
      "Total params: 636\n",
      "Trainable params: 626\n",
      "Non-trainable params: 10\n",
      "_________________________________________________________________\n"
     ]
    }
   ],
   "source": [
    "from tensorflow.keras.layers import Conv1D,BatchNormalization,LeakyReLU,MaxPool1D,\\\n",
    "GlobalAveragePooling1D,Dense,Dropout,AveragePooling1D\n",
    "from tensorflow.keras.models import Sequential\n",
    "from tensorflow.keras.backend import clear_session\n",
    "def cnnmodel():\n",
    "    clear_session()\n",
    "    model=Sequential()\n",
    "    model.add(Conv1D(filters=5,kernel_size=3,strides=1,input_shape=(6250,19)))#1\n",
    "    model.add(BatchNormalization())\n",
    "    model.add(LeakyReLU())\n",
    "    model.add(MaxPool1D(pool_size=2,strides=2))#2\n",
    "    model.add(Conv1D(filters=5,kernel_size=3,strides=1))#3\n",
    "    model.add(LeakyReLU())\n",
    "    model.add(MaxPool1D(pool_size=2,strides=2))#4\n",
    "    model.add(Dropout(0.5))\n",
    "    model.add(Conv1D(filters=5,kernel_size=3,strides=1))#5\n",
    "    model.add(LeakyReLU())\n",
    "    model.add(AveragePooling1D(pool_size=2,strides=2))#6\n",
    "    model.add(Dropout(0.5))\n",
    "    model.add(Conv1D(filters=5,kernel_size=3,strides=1))#7\n",
    "    model.add(LeakyReLU())\n",
    "    model.add(AveragePooling1D(pool_size=2,strides=2))#8\n",
    "    model.add(Conv1D(filters=5,kernel_size=3,strides=1))#9\n",
    "    model.add(LeakyReLU())\n",
    "    model.add(GlobalAveragePooling1D())#10\n",
    "    model.add(Dense(1,activation='sigmoid'))#11\n",
    "    \n",
    "    model.compile('adam',loss='binary_crossentropy',metrics=['accuracy'])\n",
    "    return model\n",
    "\n",
    "model=cnnmodel()\n",
    "model.summary()"
   ]
  },
  {
   "cell_type": "code",
   "execution_count": 21,
   "id": "2dc9c1cb",
   "metadata": {},
   "outputs": [
    {
     "name": "stdout",
     "output_type": "stream",
     "text": [
      "Epoch 1/50\n",
      "8/8 [==============================] - 8s 417ms/step - loss: 0.6909 - accuracy: 0.5137 - val_loss: 0.6879 - val_accuracy: 0.6840\n",
      "Epoch 2/50\n",
      "8/8 [==============================] - 2s 310ms/step - loss: 0.6901 - accuracy: 0.5137 - val_loss: 0.6835 - val_accuracy: 0.6840\n",
      "Epoch 3/50\n",
      "8/8 [==============================] - 3s 321ms/step - loss: 0.6887 - accuracy: 0.5137 - val_loss: 0.6801 - val_accuracy: 0.6840\n",
      "Epoch 4/50\n",
      "8/8 [==============================] - 5s 659ms/step - loss: 0.6884 - accuracy: 0.5137 - val_loss: 0.6767 - val_accuracy: 0.6840\n",
      "Epoch 5/50\n",
      "8/8 [==============================] - 3s 356ms/step - loss: 0.6875 - accuracy: 0.5137 - val_loss: 0.6758 - val_accuracy: 0.6840\n",
      "Epoch 6/50\n",
      "8/8 [==============================] - 4s 566ms/step - loss: 0.6860 - accuracy: 0.5137 - val_loss: 0.6759 - val_accuracy: 0.6840\n",
      "Epoch 7/50\n",
      "8/8 [==============================] - 4s 546ms/step - loss: 0.6851 - accuracy: 0.5137 - val_loss: 0.6776 - val_accuracy: 0.6840\n",
      "Epoch 8/50\n",
      "8/8 [==============================] - 4s 571ms/step - loss: 0.6839 - accuracy: 0.5137 - val_loss: 0.6803 - val_accuracy: 0.6840\n",
      "Epoch 9/50\n",
      "8/8 [==============================] - 5s 594ms/step - loss: 0.6825 - accuracy: 0.5203 - val_loss: 0.6809 - val_accuracy: 0.7229\n",
      "Epoch 10/50\n",
      "8/8 [==============================] - 4s 545ms/step - loss: 0.6814 - accuracy: 0.5181 - val_loss: 0.6784 - val_accuracy: 0.7229\n",
      "Epoch 11/50\n",
      "8/8 [==============================] - 4s 563ms/step - loss: 0.6794 - accuracy: 0.5181 - val_loss: 0.6748 - val_accuracy: 0.7143\n",
      "Epoch 12/50\n",
      "8/8 [==============================] - 4s 532ms/step - loss: 0.6767 - accuracy: 0.5181 - val_loss: 0.6719 - val_accuracy: 0.7403\n",
      "Epoch 13/50\n",
      "8/8 [==============================] - 4s 545ms/step - loss: 0.6740 - accuracy: 0.5390 - val_loss: 0.6677 - val_accuracy: 0.7706\n",
      "Epoch 14/50\n",
      "8/8 [==============================] - 4s 559ms/step - loss: 0.6723 - accuracy: 0.5247 - val_loss: 0.6561 - val_accuracy: 0.7100\n",
      "Epoch 15/50\n",
      "8/8 [==============================] - 5s 577ms/step - loss: 0.6682 - accuracy: 0.5423 - val_loss: 0.6576 - val_accuracy: 0.7792\n",
      "Epoch 16/50\n",
      "8/8 [==============================] - 5s 621ms/step - loss: 0.6676 - accuracy: 0.5456 - val_loss: 0.6496 - val_accuracy: 0.7532\n",
      "Epoch 17/50\n",
      "8/8 [==============================] - 5s 639ms/step - loss: 0.6629 - accuracy: 0.5368 - val_loss: 0.6428 - val_accuracy: 0.7403\n",
      "Epoch 18/50\n",
      "8/8 [==============================] - 5s 586ms/step - loss: 0.6587 - accuracy: 0.5401 - val_loss: 0.6352 - val_accuracy: 0.7403\n",
      "Epoch 19/50\n",
      "8/8 [==============================] - 4s 554ms/step - loss: 0.6540 - accuracy: 0.5598 - val_loss: 0.6280 - val_accuracy: 0.7619\n",
      "Epoch 20/50\n",
      "8/8 [==============================] - 4s 546ms/step - loss: 0.6456 - accuracy: 0.5807 - val_loss: 0.6106 - val_accuracy: 0.7100\n",
      "Epoch 21/50\n",
      "8/8 [==============================] - 4s 551ms/step - loss: 0.6452 - accuracy: 0.5499 - val_loss: 0.5961 - val_accuracy: 0.7100\n",
      "Epoch 22/50\n",
      "8/8 [==============================] - 5s 567ms/step - loss: 0.6317 - accuracy: 0.6081 - val_loss: 0.6022 - val_accuracy: 0.8052\n",
      "Epoch 23/50\n",
      "8/8 [==============================] - 4s 553ms/step - loss: 0.6284 - accuracy: 0.6608 - val_loss: 0.5914 - val_accuracy: 0.8052\n",
      "Epoch 24/50\n",
      "8/8 [==============================] - 4s 541ms/step - loss: 0.6195 - accuracy: 0.6707 - val_loss: 0.5737 - val_accuracy: 0.7706\n",
      "Epoch 25/50\n",
      "8/8 [==============================] - 4s 532ms/step - loss: 0.6154 - accuracy: 0.6905 - val_loss: 0.5736 - val_accuracy: 0.8355\n",
      "Epoch 26/50\n",
      "8/8 [==============================] - 4s 547ms/step - loss: 0.5974 - accuracy: 0.7706 - val_loss: 0.5514 - val_accuracy: 0.8225\n",
      "Epoch 27/50\n",
      "8/8 [==============================] - 4s 547ms/step - loss: 0.5862 - accuracy: 0.7366 - val_loss: 0.5315 - val_accuracy: 0.8268\n",
      "Epoch 28/50\n",
      "8/8 [==============================] - 4s 551ms/step - loss: 0.5692 - accuracy: 0.7980 - val_loss: 0.5200 - val_accuracy: 0.8528\n",
      "Epoch 29/50\n",
      "8/8 [==============================] - 4s 551ms/step - loss: 0.5600 - accuracy: 0.7849 - val_loss: 0.5053 - val_accuracy: 0.8442\n",
      "Epoch 30/50\n",
      "8/8 [==============================] - 4s 549ms/step - loss: 0.5421 - accuracy: 0.8145 - val_loss: 0.4869 - val_accuracy: 0.8268\n",
      "Epoch 31/50\n",
      "8/8 [==============================] - 4s 540ms/step - loss: 0.5202 - accuracy: 0.8046 - val_loss: 0.5023 - val_accuracy: 0.8874\n",
      "Epoch 32/50\n",
      "8/8 [==============================] - 4s 540ms/step - loss: 0.4907 - accuracy: 0.8112 - val_loss: 0.4641 - val_accuracy: 0.8139\n",
      "Epoch 33/50\n",
      "8/8 [==============================] - 4s 545ms/step - loss: 0.4702 - accuracy: 0.8277 - val_loss: 0.4484 - val_accuracy: 0.8052\n",
      "Epoch 34/50\n",
      "8/8 [==============================] - 4s 544ms/step - loss: 0.4542 - accuracy: 0.8200 - val_loss: 0.4477 - val_accuracy: 0.7965\n",
      "Epoch 35/50\n",
      "8/8 [==============================] - 4s 550ms/step - loss: 0.4255 - accuracy: 0.8474 - val_loss: 0.4482 - val_accuracy: 0.7749\n",
      "Epoch 36/50\n",
      "8/8 [==============================] - 4s 551ms/step - loss: 0.4140 - accuracy: 0.8353 - val_loss: 0.4447 - val_accuracy: 0.7879\n",
      "Epoch 37/50\n",
      "8/8 [==============================] - 4s 542ms/step - loss: 0.4009 - accuracy: 0.8386 - val_loss: 0.4254 - val_accuracy: 0.7922\n",
      "Epoch 38/50\n",
      "8/8 [==============================] - 4s 535ms/step - loss: 0.3982 - accuracy: 0.8485 - val_loss: 0.4356 - val_accuracy: 0.8225\n",
      "Epoch 39/50\n",
      "8/8 [==============================] - 4s 546ms/step - loss: 0.3743 - accuracy: 0.8738 - val_loss: 0.4289 - val_accuracy: 0.7446\n",
      "Epoch 40/50\n",
      "8/8 [==============================] - 4s 531ms/step - loss: 0.3654 - accuracy: 0.8891 - val_loss: 0.4205 - val_accuracy: 0.8052\n",
      "Epoch 41/50\n",
      "8/8 [==============================] - 4s 547ms/step - loss: 0.3732 - accuracy: 0.8496 - val_loss: 0.4390 - val_accuracy: 0.7446\n",
      "Epoch 42/50\n",
      "8/8 [==============================] - 4s 523ms/step - loss: 0.3373 - accuracy: 0.8804 - val_loss: 0.4843 - val_accuracy: 0.7013\n",
      "Epoch 43/50\n",
      "8/8 [==============================] - 4s 537ms/step - loss: 0.3765 - accuracy: 0.8474 - val_loss: 0.4766 - val_accuracy: 0.7100\n",
      "Epoch 44/50\n",
      "8/8 [==============================] - 4s 549ms/step - loss: 0.3413 - accuracy: 0.8935 - val_loss: 0.6362 - val_accuracy: 0.6537\n",
      "Epoch 45/50\n",
      "8/8 [==============================] - 4s 540ms/step - loss: 0.3203 - accuracy: 0.9001 - val_loss: 0.5087 - val_accuracy: 0.6840\n",
      "Epoch 46/50\n",
      "8/8 [==============================] - 4s 528ms/step - loss: 0.3236 - accuracy: 0.8727 - val_loss: 0.5288 - val_accuracy: 0.6840\n",
      "Epoch 47/50\n",
      "8/8 [==============================] - 5s 575ms/step - loss: 0.3227 - accuracy: 0.8913 - val_loss: 0.6093 - val_accuracy: 0.6710\n",
      "Epoch 48/50\n",
      "8/8 [==============================] - 5s 571ms/step - loss: 0.2904 - accuracy: 0.8902 - val_loss: 0.5210 - val_accuracy: 0.6797\n",
      "Epoch 49/50\n",
      "8/8 [==============================] - 5s 566ms/step - loss: 0.2915 - accuracy: 0.8946 - val_loss: 0.6476 - val_accuracy: 0.6623\n",
      "Epoch 50/50\n",
      "8/8 [==============================] - 5s 570ms/step - loss: 0.3066 - accuracy: 0.9012 - val_loss: 0.6755 - val_accuracy: 0.6667\n",
      "8/8 [==============================] - 1s 54ms/step - loss: 0.6755 - accuracy: 0.6667\n",
      "Epoch 1/50\n",
      "8/8 [==============================] - 17s 1s/step - loss: 0.6934 - accuracy: 0.4957 - val_loss: 0.6919 - val_accuracy: 0.4709\n",
      "Epoch 2/50\n",
      "8/8 [==============================] - 5s 581ms/step - loss: 0.6866 - accuracy: 0.5726 - val_loss: 0.6924 - val_accuracy: 0.4709\n",
      "Epoch 3/50\n",
      "8/8 [==============================] - 4s 548ms/step - loss: 0.6820 - accuracy: 0.5652 - val_loss: 0.6936 - val_accuracy: 0.4709\n",
      "Epoch 4/50\n",
      "8/8 [==============================] - 4s 542ms/step - loss: 0.6781 - accuracy: 0.5652 - val_loss: 0.6953 - val_accuracy: 0.4709\n",
      "Epoch 5/50\n",
      "8/8 [==============================] - 4s 542ms/step - loss: 0.6719 - accuracy: 0.5652 - val_loss: 0.6973 - val_accuracy: 0.4709\n",
      "Epoch 6/50\n",
      "8/8 [==============================] - 4s 540ms/step - loss: 0.6681 - accuracy: 0.5652 - val_loss: 0.7021 - val_accuracy: 0.4709\n",
      "Epoch 7/50\n",
      "8/8 [==============================] - 4s 531ms/step - loss: 0.6634 - accuracy: 0.5652 - val_loss: 0.7066 - val_accuracy: 0.4709\n",
      "Epoch 8/50\n",
      "8/8 [==============================] - 4s 529ms/step - loss: 0.6588 - accuracy: 0.5652 - val_loss: 0.7079 - val_accuracy: 0.4709\n",
      "Epoch 9/50\n",
      "8/8 [==============================] - 4s 508ms/step - loss: 0.6534 - accuracy: 0.5652 - val_loss: 0.7035 - val_accuracy: 0.4709\n",
      "Epoch 10/50\n",
      "8/8 [==============================] - 4s 545ms/step - loss: 0.6531 - accuracy: 0.5652 - val_loss: 0.6985 - val_accuracy: 0.4709\n",
      "Epoch 11/50\n",
      "8/8 [==============================] - 4s 549ms/step - loss: 0.6496 - accuracy: 0.5652 - val_loss: 0.6950 - val_accuracy: 0.4709\n",
      "Epoch 12/50\n",
      "8/8 [==============================] - 4s 553ms/step - loss: 0.6454 - accuracy: 0.5652 - val_loss: 0.6935 - val_accuracy: 0.4709\n",
      "Epoch 13/50\n",
      "8/8 [==============================] - 5s 587ms/step - loss: 0.6427 - accuracy: 0.5652 - val_loss: 0.6923 - val_accuracy: 0.4709\n",
      "Epoch 14/50\n",
      "8/8 [==============================] - 4s 555ms/step - loss: 0.6337 - accuracy: 0.5652 - val_loss: 0.6917 - val_accuracy: 0.4709\n",
      "Epoch 15/50\n",
      "8/8 [==============================] - 4s 543ms/step - loss: 0.6316 - accuracy: 0.5737 - val_loss: 0.6887 - val_accuracy: 0.4709\n",
      "Epoch 16/50\n",
      "8/8 [==============================] - 4s 537ms/step - loss: 0.6200 - accuracy: 0.6047 - val_loss: 0.6832 - val_accuracy: 0.4709\n",
      "Epoch 17/50\n",
      "8/8 [==============================] - 4s 538ms/step - loss: 0.6147 - accuracy: 0.6250 - val_loss: 0.6807 - val_accuracy: 0.4709\n",
      "Epoch 18/50\n",
      "8/8 [==============================] - 4s 560ms/step - loss: 0.6100 - accuracy: 0.5940 - val_loss: 0.6731 - val_accuracy: 0.4806\n",
      "Epoch 19/50\n",
      "8/8 [==============================] - 4s 520ms/step - loss: 0.5958 - accuracy: 0.6421 - val_loss: 0.6793 - val_accuracy: 0.4806\n",
      "Epoch 20/50\n",
      "8/8 [==============================] - 4s 543ms/step - loss: 0.5876 - accuracy: 0.6656 - val_loss: 0.6665 - val_accuracy: 0.5291\n",
      "Epoch 21/50\n",
      "8/8 [==============================] - 4s 539ms/step - loss: 0.5735 - accuracy: 0.6816 - val_loss: 0.6607 - val_accuracy: 0.5825\n",
      "Epoch 22/50\n",
      "8/8 [==============================] - 4s 535ms/step - loss: 0.5568 - accuracy: 0.7276 - val_loss: 0.6671 - val_accuracy: 0.5777\n",
      "Epoch 23/50\n",
      "8/8 [==============================] - 5s 570ms/step - loss: 0.5446 - accuracy: 0.6923 - val_loss: 0.6671 - val_accuracy: 0.5874\n",
      "Epoch 24/50\n",
      "8/8 [==============================] - 4s 557ms/step - loss: 0.5095 - accuracy: 0.7799 - val_loss: 0.6513 - val_accuracy: 0.5777\n",
      "Epoch 25/50\n",
      "8/8 [==============================] - 4s 545ms/step - loss: 0.4898 - accuracy: 0.7885 - val_loss: 0.6519 - val_accuracy: 0.5583\n",
      "Epoch 26/50\n",
      "8/8 [==============================] - 4s 528ms/step - loss: 0.4555 - accuracy: 0.8141 - val_loss: 0.7347 - val_accuracy: 0.5777\n",
      "Epoch 27/50\n",
      "8/8 [==============================] - 4s 532ms/step - loss: 0.4519 - accuracy: 0.7885 - val_loss: 0.7113 - val_accuracy: 0.6019\n",
      "Epoch 28/50\n",
      "8/8 [==============================] - 4s 530ms/step - loss: 0.3932 - accuracy: 0.8462 - val_loss: 0.7301 - val_accuracy: 0.6068\n",
      "Epoch 29/50\n",
      "8/8 [==============================] - 4s 524ms/step - loss: 0.3632 - accuracy: 0.8718 - val_loss: 0.8328 - val_accuracy: 0.6117\n",
      "Epoch 30/50\n",
      "8/8 [==============================] - 4s 546ms/step - loss: 0.3439 - accuracy: 0.8718 - val_loss: 0.9067 - val_accuracy: 0.6165\n",
      "Epoch 31/50\n",
      "8/8 [==============================] - 4s 531ms/step - loss: 0.3125 - accuracy: 0.8825 - val_loss: 0.9263 - val_accuracy: 0.6165\n",
      "Epoch 32/50\n",
      "8/8 [==============================] - 4s 525ms/step - loss: 0.2964 - accuracy: 0.8825 - val_loss: 0.9690 - val_accuracy: 0.6262\n",
      "Epoch 33/50\n",
      "8/8 [==============================] - 4s 521ms/step - loss: 0.2707 - accuracy: 0.9038 - val_loss: 1.3251 - val_accuracy: 0.5485\n",
      "Epoch 34/50\n",
      "8/8 [==============================] - 4s 545ms/step - loss: 0.2647 - accuracy: 0.9038 - val_loss: 1.2897 - val_accuracy: 0.5825\n",
      "Epoch 35/50\n",
      "8/8 [==============================] - 4s 545ms/step - loss: 0.2375 - accuracy: 0.9252 - val_loss: 1.4910 - val_accuracy: 0.5437\n",
      "Epoch 36/50\n",
      "8/8 [==============================] - 4s 529ms/step - loss: 0.2831 - accuracy: 0.8814 - val_loss: 1.6216 - val_accuracy: 0.4903\n",
      "Epoch 37/50\n",
      "8/8 [==============================] - 4s 543ms/step - loss: 0.2194 - accuracy: 0.9220 - val_loss: 1.5163 - val_accuracy: 0.5534\n",
      "Epoch 38/50\n",
      "8/8 [==============================] - 4s 523ms/step - loss: 0.2070 - accuracy: 0.9338 - val_loss: 1.8893 - val_accuracy: 0.4903\n",
      "Epoch 39/50\n",
      "8/8 [==============================] - 4s 541ms/step - loss: 0.2187 - accuracy: 0.9306 - val_loss: 2.0401 - val_accuracy: 0.4854\n",
      "Epoch 40/50\n",
      "8/8 [==============================] - 4s 552ms/step - loss: 0.2076 - accuracy: 0.9241 - val_loss: 2.0013 - val_accuracy: 0.4854\n",
      "Epoch 41/50\n",
      "8/8 [==============================] - 5s 562ms/step - loss: 0.2000 - accuracy: 0.9519 - val_loss: 2.1967 - val_accuracy: 0.4854\n",
      "Epoch 42/50\n",
      "8/8 [==============================] - 4s 559ms/step - loss: 0.1955 - accuracy: 0.9348 - val_loss: 2.0644 - val_accuracy: 0.4854\n",
      "Epoch 43/50\n",
      "8/8 [==============================] - 4s 550ms/step - loss: 0.1860 - accuracy: 0.9359 - val_loss: 2.2734 - val_accuracy: 0.4806\n",
      "Epoch 44/50\n",
      "8/8 [==============================] - 4s 557ms/step - loss: 0.1594 - accuracy: 0.9487 - val_loss: 2.3657 - val_accuracy: 0.4806\n",
      "Epoch 45/50\n",
      "8/8 [==============================] - 5s 564ms/step - loss: 0.1798 - accuracy: 0.9455 - val_loss: 2.2348 - val_accuracy: 0.5000\n",
      "Epoch 46/50\n",
      "8/8 [==============================] - 4s 537ms/step - loss: 0.1733 - accuracy: 0.9380 - val_loss: 2.5963 - val_accuracy: 0.4806\n",
      "Epoch 47/50\n",
      "8/8 [==============================] - 4s 536ms/step - loss: 0.1669 - accuracy: 0.9541 - val_loss: 2.3135 - val_accuracy: 0.5049\n",
      "Epoch 48/50\n",
      "8/8 [==============================] - 4s 560ms/step - loss: 0.1724 - accuracy: 0.9412 - val_loss: 2.8349 - val_accuracy: 0.4757\n",
      "Epoch 49/50\n",
      "8/8 [==============================] - 3s 372ms/step - loss: 0.1415 - accuracy: 0.9530 - val_loss: 2.4259 - val_accuracy: 0.5049\n",
      "Epoch 50/50\n",
      "8/8 [==============================] - 2s 307ms/step - loss: 0.1501 - accuracy: 0.9509 - val_loss: 2.6367 - val_accuracy: 0.4903\n",
      "7/7 [==============================] - 0s 18ms/step - loss: 2.6367 - accuracy: 0.4903\n",
      "Epoch 1/50\n",
      "8/8 [==============================] - 6s 378ms/step - loss: 0.6928 - accuracy: 0.5055 - val_loss: 0.6940 - val_accuracy: 0.4957\n",
      "Epoch 2/50\n",
      "8/8 [==============================] - 2s 304ms/step - loss: 0.6886 - accuracy: 0.5606 - val_loss: 0.6951 - val_accuracy: 0.5000\n",
      "Epoch 3/50\n",
      "8/8 [==============================] - 2s 286ms/step - loss: 0.6849 - accuracy: 0.5606 - val_loss: 0.6968 - val_accuracy: 0.5000\n",
      "Epoch 4/50\n",
      "8/8 [==============================] - 2s 273ms/step - loss: 0.6796 - accuracy: 0.5606 - val_loss: 0.6992 - val_accuracy: 0.5000\n",
      "Epoch 5/50\n",
      "8/8 [==============================] - 2s 284ms/step - loss: 0.6771 - accuracy: 0.5606 - val_loss: 0.7012 - val_accuracy: 0.5000\n",
      "Epoch 6/50\n",
      "8/8 [==============================] - 2s 272ms/step - loss: 0.6717 - accuracy: 0.5606 - val_loss: 0.7035 - val_accuracy: 0.5000\n",
      "Epoch 7/50\n",
      "8/8 [==============================] - 2s 275ms/step - loss: 0.6665 - accuracy: 0.5606 - val_loss: 0.7066 - val_accuracy: 0.5000\n",
      "Epoch 8/50\n",
      "8/8 [==============================] - 2s 291ms/step - loss: 0.6623 - accuracy: 0.5606 - val_loss: 0.7028 - val_accuracy: 0.5000\n",
      "Epoch 9/50\n",
      "8/8 [==============================] - 2s 295ms/step - loss: 0.6548 - accuracy: 0.5606 - val_loss: 0.6983 - val_accuracy: 0.5000\n",
      "Epoch 10/50\n",
      "8/8 [==============================] - 2s 295ms/step - loss: 0.6498 - accuracy: 0.5606 - val_loss: 0.6960 - val_accuracy: 0.5000\n",
      "Epoch 11/50\n",
      "8/8 [==============================] - 2s 296ms/step - loss: 0.6432 - accuracy: 0.5606 - val_loss: 0.6968 - val_accuracy: 0.5000\n",
      "Epoch 12/50\n",
      "8/8 [==============================] - 2s 292ms/step - loss: 0.6342 - accuracy: 0.5606 - val_loss: 0.6958 - val_accuracy: 0.5000\n",
      "Epoch 13/50\n",
      "8/8 [==============================] - 2s 301ms/step - loss: 0.6224 - accuracy: 0.5606 - val_loss: 0.6930 - val_accuracy: 0.5000\n",
      "Epoch 14/50\n",
      "8/8 [==============================] - 2s 297ms/step - loss: 0.6128 - accuracy: 0.5694 - val_loss: 0.6854 - val_accuracy: 0.5000\n",
      "Epoch 15/50\n"
     ]
    },
    {
     "name": "stdout",
     "output_type": "stream",
     "text": [
      "8/8 [==============================] - 2s 305ms/step - loss: 0.6022 - accuracy: 0.6289 - val_loss: 0.6769 - val_accuracy: 0.5983\n",
      "Epoch 16/50\n",
      "8/8 [==============================] - 2s 298ms/step - loss: 0.5755 - accuracy: 0.6520 - val_loss: 0.6731 - val_accuracy: 0.6325\n",
      "Epoch 17/50\n",
      "8/8 [==============================] - 2s 294ms/step - loss: 0.5541 - accuracy: 0.7368 - val_loss: 0.6616 - val_accuracy: 0.6709\n",
      "Epoch 18/50\n",
      "8/8 [==============================] - 2s 296ms/step - loss: 0.5222 - accuracy: 0.7819 - val_loss: 0.6688 - val_accuracy: 0.6325\n",
      "Epoch 19/50\n",
      "8/8 [==============================] - 2s 297ms/step - loss: 0.4758 - accuracy: 0.8282 - val_loss: 0.7063 - val_accuracy: 0.6496\n",
      "Epoch 20/50\n",
      "8/8 [==============================] - 2s 307ms/step - loss: 0.4403 - accuracy: 0.8502 - val_loss: 0.7081 - val_accuracy: 0.6667\n",
      "Epoch 21/50\n",
      "8/8 [==============================] - 2s 305ms/step - loss: 0.4267 - accuracy: 0.8172 - val_loss: 0.6919 - val_accuracy: 0.6624\n",
      "Epoch 22/50\n",
      "8/8 [==============================] - 2s 301ms/step - loss: 0.3797 - accuracy: 0.8623 - val_loss: 0.9390 - val_accuracy: 0.6026\n",
      "Epoch 23/50\n",
      "8/8 [==============================] - 2s 287ms/step - loss: 0.3418 - accuracy: 0.8667 - val_loss: 0.9307 - val_accuracy: 0.6282\n",
      "Epoch 24/50\n",
      "8/8 [==============================] - 2s 296ms/step - loss: 0.3273 - accuracy: 0.8612 - val_loss: 1.0268 - val_accuracy: 0.5940\n",
      "Epoch 25/50\n",
      "8/8 [==============================] - 2s 288ms/step - loss: 0.3018 - accuracy: 0.8789 - val_loss: 1.2345 - val_accuracy: 0.5769\n",
      "Epoch 26/50\n",
      "8/8 [==============================] - 2s 292ms/step - loss: 0.2820 - accuracy: 0.8822 - val_loss: 1.5042 - val_accuracy: 0.5299\n",
      "Epoch 27/50\n",
      "8/8 [==============================] - 2s 295ms/step - loss: 0.2594 - accuracy: 0.9086 - val_loss: 1.5638 - val_accuracy: 0.5299\n",
      "Epoch 28/50\n",
      "8/8 [==============================] - 3s 322ms/step - loss: 0.2417 - accuracy: 0.9009 - val_loss: 1.7176 - val_accuracy: 0.5085\n",
      "Epoch 29/50\n",
      "8/8 [==============================] - 2s 298ms/step - loss: 0.2273 - accuracy: 0.9152 - val_loss: 1.6933 - val_accuracy: 0.5171\n",
      "Epoch 30/50\n",
      "8/8 [==============================] - 2s 293ms/step - loss: 0.2242 - accuracy: 0.9196 - val_loss: 1.9783 - val_accuracy: 0.5043\n",
      "Epoch 31/50\n",
      "8/8 [==============================] - 2s 286ms/step - loss: 0.2262 - accuracy: 0.9196 - val_loss: 2.2372 - val_accuracy: 0.5000\n",
      "Epoch 32/50\n",
      "8/8 [==============================] - 2s 287ms/step - loss: 0.2113 - accuracy: 0.9240 - val_loss: 2.0109 - val_accuracy: 0.5000\n",
      "Epoch 33/50\n",
      "8/8 [==============================] - 2s 284ms/step - loss: 0.2129 - accuracy: 0.9130 - val_loss: 2.3321 - val_accuracy: 0.5000\n",
      "Epoch 34/50\n",
      "8/8 [==============================] - 2s 285ms/step - loss: 0.1953 - accuracy: 0.9339 - val_loss: 2.0371 - val_accuracy: 0.5000\n",
      "Epoch 35/50\n",
      "8/8 [==============================] - 2s 291ms/step - loss: 0.1872 - accuracy: 0.9416 - val_loss: 2.3871 - val_accuracy: 0.5000\n",
      "Epoch 36/50\n",
      "8/8 [==============================] - 2s 290ms/step - loss: 0.1695 - accuracy: 0.9482 - val_loss: 2.2225 - val_accuracy: 0.5000\n",
      "Epoch 37/50\n",
      "8/8 [==============================] - 2s 292ms/step - loss: 0.1782 - accuracy: 0.9273 - val_loss: 2.4928 - val_accuracy: 0.4957\n",
      "Epoch 38/50\n",
      "8/8 [==============================] - 2s 282ms/step - loss: 0.1582 - accuracy: 0.9526 - val_loss: 2.6823 - val_accuracy: 0.5000\n",
      "Epoch 39/50\n",
      "8/8 [==============================] - 2s 285ms/step - loss: 0.1768 - accuracy: 0.9284 - val_loss: 3.0239 - val_accuracy: 0.5000\n",
      "Epoch 40/50\n",
      "8/8 [==============================] - 2s 287ms/step - loss: 0.1637 - accuracy: 0.9372 - val_loss: 2.9604 - val_accuracy: 0.5000\n",
      "Epoch 41/50\n",
      "8/8 [==============================] - 2s 289ms/step - loss: 0.1482 - accuracy: 0.9570 - val_loss: 2.3538 - val_accuracy: 0.5043\n",
      "Epoch 42/50\n",
      "8/8 [==============================] - 2s 289ms/step - loss: 0.1484 - accuracy: 0.9482 - val_loss: 3.1336 - val_accuracy: 0.5000\n",
      "Epoch 43/50\n",
      "8/8 [==============================] - 2s 286ms/step - loss: 0.1696 - accuracy: 0.9383 - val_loss: 3.1592 - val_accuracy: 0.5000\n",
      "Epoch 44/50\n",
      "8/8 [==============================] - 2s 290ms/step - loss: 0.1442 - accuracy: 0.9615 - val_loss: 2.6964 - val_accuracy: 0.5000\n",
      "Epoch 45/50\n",
      "8/8 [==============================] - 2s 290ms/step - loss: 0.1356 - accuracy: 0.9626 - val_loss: 3.2920 - val_accuracy: 0.5000\n",
      "Epoch 46/50\n",
      "8/8 [==============================] - 2s 287ms/step - loss: 0.1338 - accuracy: 0.9637 - val_loss: 2.8319 - val_accuracy: 0.5000\n",
      "Epoch 47/50\n",
      "8/8 [==============================] - 2s 295ms/step - loss: 0.1298 - accuracy: 0.9615 - val_loss: 2.6732 - val_accuracy: 0.5043\n",
      "Epoch 48/50\n",
      "8/8 [==============================] - 2s 292ms/step - loss: 0.1267 - accuracy: 0.9593 - val_loss: 3.0372 - val_accuracy: 0.5000\n",
      "Epoch 49/50\n",
      "8/8 [==============================] - 2s 302ms/step - loss: 0.1410 - accuracy: 0.9493 - val_loss: 3.1736 - val_accuracy: 0.5043\n",
      "Epoch 50/50\n",
      "8/8 [==============================] - 2s 308ms/step - loss: 0.1210 - accuracy: 0.9604 - val_loss: 2.9851 - val_accuracy: 0.5043\n",
      "8/8 [==============================] - 0s 20ms/step - loss: 2.9851 - accuracy: 0.5043\n",
      "Epoch 1/50\n",
      "8/8 [==============================] - 5s 381ms/step - loss: 0.6849 - accuracy: 0.5486 - val_loss: 0.6912 - val_accuracy: 0.5466\n",
      "Epoch 2/50\n",
      "8/8 [==============================] - 2s 300ms/step - loss: 0.6793 - accuracy: 0.5486 - val_loss: 0.6910 - val_accuracy: 0.5466\n",
      "Epoch 3/50\n",
      "8/8 [==============================] - 2s 296ms/step - loss: 0.6734 - accuracy: 0.5486 - val_loss: 0.6915 - val_accuracy: 0.5466\n",
      "Epoch 4/50\n",
      "8/8 [==============================] - 2s 303ms/step - loss: 0.6699 - accuracy: 0.5486 - val_loss: 0.6924 - val_accuracy: 0.5466\n",
      "Epoch 5/50\n",
      "8/8 [==============================] - 2s 304ms/step - loss: 0.6634 - accuracy: 0.5486 - val_loss: 0.6931 - val_accuracy: 0.5466\n",
      "Epoch 6/50\n",
      "8/8 [==============================] - 2s 305ms/step - loss: 0.6577 - accuracy: 0.5486 - val_loss: 0.6946 - val_accuracy: 0.5466\n",
      "Epoch 7/50\n",
      "8/8 [==============================] - 2s 299ms/step - loss: 0.6571 - accuracy: 0.5486 - val_loss: 0.6949 - val_accuracy: 0.5466\n",
      "Epoch 8/50\n",
      "8/8 [==============================] - 2s 293ms/step - loss: 0.6485 - accuracy: 0.5486 - val_loss: 0.6950 - val_accuracy: 0.5466\n",
      "Epoch 9/50\n",
      "8/8 [==============================] - 2s 290ms/step - loss: 0.6459 - accuracy: 0.5497 - val_loss: 0.6952 - val_accuracy: 0.5466\n",
      "Epoch 10/50\n",
      "8/8 [==============================] - 2s 289ms/step - loss: 0.6409 - accuracy: 0.5563 - val_loss: 0.6943 - val_accuracy: 0.5466\n",
      "Epoch 11/50\n",
      "8/8 [==============================] - 2s 286ms/step - loss: 0.6336 - accuracy: 0.5828 - val_loss: 0.6943 - val_accuracy: 0.5424\n",
      "Epoch 12/50\n",
      "8/8 [==============================] - 3s 320ms/step - loss: 0.6290 - accuracy: 0.6015 - val_loss: 0.6942 - val_accuracy: 0.4958\n",
      "Epoch 13/50\n",
      "8/8 [==============================] - 2s 303ms/step - loss: 0.6189 - accuracy: 0.6214 - val_loss: 0.6939 - val_accuracy: 0.4915\n",
      "Epoch 14/50\n",
      "8/8 [==============================] - 2s 285ms/step - loss: 0.6159 - accuracy: 0.6181 - val_loss: 0.6917 - val_accuracy: 0.5297\n",
      "Epoch 15/50\n",
      "8/8 [==============================] - 2s 288ms/step - loss: 0.5959 - accuracy: 0.6921 - val_loss: 0.6944 - val_accuracy: 0.4831\n",
      "Epoch 16/50\n",
      "8/8 [==============================] - 2s 304ms/step - loss: 0.5939 - accuracy: 0.6965 - val_loss: 0.6873 - val_accuracy: 0.5297\n",
      "Epoch 17/50\n",
      "8/8 [==============================] - 2s 298ms/step - loss: 0.5833 - accuracy: 0.7042 - val_loss: 0.6896 - val_accuracy: 0.5085\n",
      "Epoch 18/50\n",
      "8/8 [==============================] - 3s 342ms/step - loss: 0.5609 - accuracy: 0.7185 - val_loss: 0.6940 - val_accuracy: 0.5085\n",
      "Epoch 19/50\n",
      "8/8 [==============================] - 2s 306ms/step - loss: 0.5497 - accuracy: 0.7483 - val_loss: 0.7008 - val_accuracy: 0.4534\n",
      "Epoch 20/50\n",
      "8/8 [==============================] - 3s 332ms/step - loss: 0.5512 - accuracy: 0.7351 - val_loss: 0.7191 - val_accuracy: 0.4449\n",
      "Epoch 21/50\n",
      "8/8 [==============================] - 3s 311ms/step - loss: 0.5273 - accuracy: 0.7539 - val_loss: 0.7168 - val_accuracy: 0.4322\n",
      "Epoch 22/50\n",
      "8/8 [==============================] - 3s 316ms/step - loss: 0.5109 - accuracy: 0.7550 - val_loss: 0.7205 - val_accuracy: 0.4788\n",
      "Epoch 23/50\n",
      "8/8 [==============================] - 3s 331ms/step - loss: 0.4916 - accuracy: 0.7649 - val_loss: 0.7271 - val_accuracy: 0.4661\n",
      "Epoch 24/50\n",
      "8/8 [==============================] - 3s 319ms/step - loss: 0.4767 - accuracy: 0.7914 - val_loss: 0.7393 - val_accuracy: 0.4364\n",
      "Epoch 25/50\n",
      "8/8 [==============================] - 2s 300ms/step - loss: 0.4698 - accuracy: 0.7837 - val_loss: 0.7582 - val_accuracy: 0.4280\n",
      "Epoch 26/50\n",
      "8/8 [==============================] - 3s 314ms/step - loss: 0.4625 - accuracy: 0.8013 - val_loss: 0.7717 - val_accuracy: 0.4237\n",
      "Epoch 27/50\n",
      "8/8 [==============================] - 2s 306ms/step - loss: 0.4613 - accuracy: 0.7837 - val_loss: 0.7928 - val_accuracy: 0.6398\n",
      "Epoch 28/50\n",
      "8/8 [==============================] - 2s 297ms/step - loss: 0.4450 - accuracy: 0.7947 - val_loss: 0.7758 - val_accuracy: 0.5975\n",
      "Epoch 29/50\n",
      "8/8 [==============================] - 2s 305ms/step - loss: 0.4272 - accuracy: 0.8091 - val_loss: 0.7712 - val_accuracy: 0.5847\n",
      "Epoch 30/50\n",
      "8/8 [==============================] - 2s 305ms/step - loss: 0.4316 - accuracy: 0.7903 - val_loss: 0.7908 - val_accuracy: 0.6610\n",
      "Epoch 31/50\n",
      "8/8 [==============================] - 2s 301ms/step - loss: 0.4020 - accuracy: 0.8234 - val_loss: 0.8157 - val_accuracy: 0.6695\n",
      "Epoch 32/50\n",
      "8/8 [==============================] - 2s 303ms/step - loss: 0.3939 - accuracy: 0.8400 - val_loss: 0.8327 - val_accuracy: 0.6780\n",
      "Epoch 33/50\n",
      "8/8 [==============================] - 2s 288ms/step - loss: 0.3671 - accuracy: 0.8444 - val_loss: 0.8567 - val_accuracy: 0.6822\n",
      "Epoch 34/50\n",
      "8/8 [==============================] - 2s 289ms/step - loss: 0.3747 - accuracy: 0.8400 - val_loss: 0.9121 - val_accuracy: 0.6822\n",
      "Epoch 35/50\n",
      "8/8 [==============================] - 2s 288ms/step - loss: 0.3484 - accuracy: 0.8675 - val_loss: 0.9090 - val_accuracy: 0.6907\n",
      "Epoch 36/50\n",
      "8/8 [==============================] - 2s 291ms/step - loss: 0.3997 - accuracy: 0.8146 - val_loss: 0.8674 - val_accuracy: 0.6992\n",
      "Epoch 37/50\n",
      "8/8 [==============================] - 2s 281ms/step - loss: 0.3352 - accuracy: 0.8642 - val_loss: 1.0894 - val_accuracy: 0.6059\n",
      "Epoch 38/50\n",
      "8/8 [==============================] - 2s 278ms/step - loss: 0.3432 - accuracy: 0.8687 - val_loss: 1.0023 - val_accuracy: 0.6525\n",
      "Epoch 39/50\n",
      "8/8 [==============================] - 2s 278ms/step - loss: 0.3336 - accuracy: 0.8731 - val_loss: 1.0641 - val_accuracy: 0.6356\n",
      "Epoch 40/50\n",
      "8/8 [==============================] - 2s 284ms/step - loss: 0.3363 - accuracy: 0.8653 - val_loss: 1.1014 - val_accuracy: 0.6059\n",
      "Epoch 41/50\n",
      "8/8 [==============================] - 2s 287ms/step - loss: 0.3098 - accuracy: 0.8863 - val_loss: 1.1905 - val_accuracy: 0.5720\n",
      "Epoch 42/50\n",
      "8/8 [==============================] - 2s 286ms/step - loss: 0.3005 - accuracy: 0.8874 - val_loss: 1.1736 - val_accuracy: 0.5932\n",
      "Epoch 43/50\n",
      "8/8 [==============================] - 2s 280ms/step - loss: 0.3098 - accuracy: 0.8764 - val_loss: 1.3280 - val_accuracy: 0.5593\n",
      "Epoch 44/50\n",
      "8/8 [==============================] - 2s 283ms/step - loss: 0.2959 - accuracy: 0.8962 - val_loss: 1.6738 - val_accuracy: 0.5466\n",
      "Epoch 45/50\n",
      "8/8 [==============================] - 2s 276ms/step - loss: 0.3055 - accuracy: 0.8830 - val_loss: 1.3608 - val_accuracy: 0.5466\n",
      "Epoch 46/50\n",
      "8/8 [==============================] - 2s 271ms/step - loss: 0.3107 - accuracy: 0.8841 - val_loss: 1.5613 - val_accuracy: 0.5466\n",
      "Epoch 47/50\n",
      "8/8 [==============================] - 2s 274ms/step - loss: 0.2586 - accuracy: 0.9194 - val_loss: 1.7081 - val_accuracy: 0.5466\n",
      "Epoch 48/50\n",
      "8/8 [==============================] - 2s 275ms/step - loss: 0.2847 - accuracy: 0.9029 - val_loss: 1.6428 - val_accuracy: 0.5466\n",
      "Epoch 49/50\n",
      "8/8 [==============================] - 2s 270ms/step - loss: 0.2604 - accuracy: 0.9073 - val_loss: 1.8009 - val_accuracy: 0.5466\n",
      "Epoch 50/50\n",
      "8/8 [==============================] - 2s 262ms/step - loss: 0.2566 - accuracy: 0.9139 - val_loss: 1.6273 - val_accuracy: 0.5466\n",
      "8/8 [==============================] - 0s 17ms/step - loss: 1.6273 - accuracy: 0.5466\n",
      "Epoch 1/50\n",
      "8/8 [==============================] - 6s 364ms/step - loss: 0.7502 - accuracy: 0.4476 - val_loss: 0.7167 - val_accuracy: 0.4681\n",
      "Epoch 2/50\n",
      "8/8 [==============================] - 2s 284ms/step - loss: 0.7230 - accuracy: 0.4476 - val_loss: 0.7061 - val_accuracy: 0.4681\n",
      "Epoch 3/50\n",
      "8/8 [==============================] - 2s 278ms/step - loss: 0.7138 - accuracy: 0.4388 - val_loss: 0.6996 - val_accuracy: 0.1787\n",
      "Epoch 4/50\n",
      "8/8 [==============================] - 3s 415ms/step - loss: 0.7044 - accuracy: 0.4498 - val_loss: 0.6962 - val_accuracy: 0.5319\n",
      "Epoch 5/50\n",
      "8/8 [==============================] - 3s 379ms/step - loss: 0.7003 - accuracy: 0.4697 - val_loss: 0.6946 - val_accuracy: 0.5404\n",
      "Epoch 6/50\n",
      "8/8 [==============================] - 3s 355ms/step - loss: 0.6970 - accuracy: 0.4917 - val_loss: 0.6935 - val_accuracy: 0.5319\n",
      "Epoch 7/50\n",
      "8/8 [==============================] - 3s 364ms/step - loss: 0.6945 - accuracy: 0.5006 - val_loss: 0.6929 - val_accuracy: 0.5319\n",
      "Epoch 8/50\n",
      "8/8 [==============================] - 3s 317ms/step - loss: 0.6934 - accuracy: 0.5149 - val_loss: 0.6924 - val_accuracy: 0.5319\n",
      "Epoch 9/50\n",
      "8/8 [==============================] - 2s 296ms/step - loss: 0.6921 - accuracy: 0.5248 - val_loss: 0.6920 - val_accuracy: 0.5319\n",
      "Epoch 10/50\n",
      "8/8 [==============================] - 2s 307ms/step - loss: 0.6919 - accuracy: 0.5314 - val_loss: 0.6917 - val_accuracy: 0.5319\n",
      "Epoch 11/50\n",
      "8/8 [==============================] - 2s 293ms/step - loss: 0.6910 - accuracy: 0.5447 - val_loss: 0.6915 - val_accuracy: 0.5319\n",
      "Epoch 12/50\n",
      "8/8 [==============================] - 2s 290ms/step - loss: 0.6904 - accuracy: 0.5447 - val_loss: 0.6914 - val_accuracy: 0.5319\n",
      "Epoch 13/50\n",
      "8/8 [==============================] - 3s 320ms/step - loss: 0.6902 - accuracy: 0.5513 - val_loss: 0.6912 - val_accuracy: 0.5319\n",
      "Epoch 14/50\n",
      "8/8 [==============================] - 3s 321ms/step - loss: 0.6897 - accuracy: 0.5491 - val_loss: 0.6911 - val_accuracy: 0.5319\n",
      "Epoch 15/50\n",
      "8/8 [==============================] - 2s 305ms/step - loss: 0.6893 - accuracy: 0.5513 - val_loss: 0.6910 - val_accuracy: 0.5319\n",
      "Epoch 16/50\n",
      "8/8 [==============================] - 3s 332ms/step - loss: 0.6888 - accuracy: 0.5524 - val_loss: 0.6908 - val_accuracy: 0.5319\n",
      "Epoch 17/50\n",
      "8/8 [==============================] - 2s 307ms/step - loss: 0.6883 - accuracy: 0.5513 - val_loss: 0.6908 - val_accuracy: 0.5319\n",
      "Epoch 18/50\n",
      "8/8 [==============================] - 2s 305ms/step - loss: 0.6880 - accuracy: 0.5524 - val_loss: 0.6906 - val_accuracy: 0.5319\n",
      "Epoch 19/50\n",
      "8/8 [==============================] - 2s 306ms/step - loss: 0.6877 - accuracy: 0.5524 - val_loss: 0.6905 - val_accuracy: 0.5319\n",
      "Epoch 20/50\n",
      "8/8 [==============================] - 3s 338ms/step - loss: 0.6873 - accuracy: 0.5524 - val_loss: 0.6904 - val_accuracy: 0.5319\n",
      "Epoch 21/50\n",
      "8/8 [==============================] - 3s 326ms/step - loss: 0.6868 - accuracy: 0.5524 - val_loss: 0.6902 - val_accuracy: 0.5319\n",
      "Epoch 22/50\n",
      "8/8 [==============================] - 3s 331ms/step - loss: 0.6864 - accuracy: 0.5524 - val_loss: 0.6898 - val_accuracy: 0.5319\n",
      "Epoch 23/50\n",
      "8/8 [==============================] - 3s 374ms/step - loss: 0.6857 - accuracy: 0.5524 - val_loss: 0.6895 - val_accuracy: 0.5319\n",
      "Epoch 24/50\n",
      "8/8 [==============================] - 3s 389ms/step - loss: 0.6844 - accuracy: 0.5524 - val_loss: 0.6890 - val_accuracy: 0.5319\n",
      "Epoch 25/50\n",
      "8/8 [==============================] - 3s 361ms/step - loss: 0.6831 - accuracy: 0.5524 - val_loss: 0.6884 - val_accuracy: 0.5319\n",
      "Epoch 26/50\n",
      "8/8 [==============================] - 3s 331ms/step - loss: 0.6831 - accuracy: 0.5524 - val_loss: 0.6883 - val_accuracy: 0.5319\n",
      "Epoch 27/50\n",
      "8/8 [==============================] - 3s 335ms/step - loss: 0.6802 - accuracy: 0.5524 - val_loss: 0.6884 - val_accuracy: 0.5319\n",
      "Epoch 28/50\n",
      "8/8 [==============================] - 3s 316ms/step - loss: 0.6791 - accuracy: 0.5524 - val_loss: 0.6880 - val_accuracy: 0.5319\n",
      "Epoch 29/50\n"
     ]
    },
    {
     "name": "stdout",
     "output_type": "stream",
     "text": [
      "8/8 [==============================] - 3s 318ms/step - loss: 0.6753 - accuracy: 0.5524 - val_loss: 0.6872 - val_accuracy: 0.5319\n",
      "Epoch 30/50\n",
      "8/8 [==============================] - 3s 312ms/step - loss: 0.6696 - accuracy: 0.5524 - val_loss: 0.6857 - val_accuracy: 0.5319\n",
      "Epoch 31/50\n",
      "8/8 [==============================] - 3s 331ms/step - loss: 0.6631 - accuracy: 0.5524 - val_loss: 0.6843 - val_accuracy: 0.5319\n",
      "Epoch 32/50\n",
      "8/8 [==============================] - 3s 335ms/step - loss: 0.6564 - accuracy: 0.5524 - val_loss: 0.6820 - val_accuracy: 0.5319\n",
      "Epoch 33/50\n",
      "8/8 [==============================] - 3s 324ms/step - loss: 0.6467 - accuracy: 0.5524 - val_loss: 0.6799 - val_accuracy: 0.5319\n",
      "Epoch 34/50\n",
      "8/8 [==============================] - 3s 327ms/step - loss: 0.6349 - accuracy: 0.5524 - val_loss: 0.6791 - val_accuracy: 0.5362\n",
      "Epoch 35/50\n",
      "8/8 [==============================] - 3s 333ms/step - loss: 0.6231 - accuracy: 0.6185 - val_loss: 0.6781 - val_accuracy: 0.7617\n",
      "Epoch 36/50\n",
      "8/8 [==============================] - 3s 315ms/step - loss: 0.6130 - accuracy: 0.6251 - val_loss: 0.6575 - val_accuracy: 0.7021\n",
      "Epoch 37/50\n",
      "8/8 [==============================] - 3s 308ms/step - loss: 0.5920 - accuracy: 0.6549 - val_loss: 0.6589 - val_accuracy: 0.7021\n",
      "Epoch 38/50\n",
      "8/8 [==============================] - 3s 314ms/step - loss: 0.5734 - accuracy: 0.7530 - val_loss: 0.6447 - val_accuracy: 0.6043\n",
      "Epoch 39/50\n",
      "8/8 [==============================] - 3s 311ms/step - loss: 0.5473 - accuracy: 0.7563 - val_loss: 0.5870 - val_accuracy: 0.8894\n",
      "Epoch 40/50\n",
      "8/8 [==============================] - 3s 313ms/step - loss: 0.5217 - accuracy: 0.7619 - val_loss: 0.5639 - val_accuracy: 0.8511\n",
      "Epoch 41/50\n",
      "8/8 [==============================] - 2s 292ms/step - loss: 0.5001 - accuracy: 0.7508 - val_loss: 0.5615 - val_accuracy: 0.7149\n",
      "Epoch 42/50\n",
      "8/8 [==============================] - 2s 287ms/step - loss: 0.4864 - accuracy: 0.7938 - val_loss: 0.4880 - val_accuracy: 0.9830\n",
      "Epoch 43/50\n",
      "8/8 [==============================] - 2s 295ms/step - loss: 0.4379 - accuracy: 0.8247 - val_loss: 0.4970 - val_accuracy: 0.8426\n",
      "Epoch 44/50\n",
      "8/8 [==============================] - 2s 292ms/step - loss: 0.4242 - accuracy: 0.8236 - val_loss: 0.4348 - val_accuracy: 0.9915\n",
      "Epoch 45/50\n",
      "8/8 [==============================] - 3s 323ms/step - loss: 0.3949 - accuracy: 0.8754 - val_loss: 0.3971 - val_accuracy: 0.9915\n",
      "Epoch 46/50\n",
      "8/8 [==============================] - 2s 296ms/step - loss: 0.3671 - accuracy: 0.8820 - val_loss: 0.3846 - val_accuracy: 0.8511\n",
      "Epoch 47/50\n",
      "8/8 [==============================] - 3s 354ms/step - loss: 0.3626 - accuracy: 0.8622 - val_loss: 0.3418 - val_accuracy: 0.9660\n",
      "Epoch 48/50\n",
      "8/8 [==============================] - 3s 370ms/step - loss: 0.3359 - accuracy: 0.8831 - val_loss: 0.3392 - val_accuracy: 0.8723\n",
      "Epoch 49/50\n",
      "8/8 [==============================] - 3s 344ms/step - loss: 0.3204 - accuracy: 0.8953 - val_loss: 0.3426 - val_accuracy: 0.8298\n",
      "Epoch 50/50\n",
      "8/8 [==============================] - 3s 322ms/step - loss: 0.3060 - accuracy: 0.8953 - val_loss: 0.3713 - val_accuracy: 0.7489\n",
      "8/8 [==============================] - 0s 19ms/step - loss: 0.3713 - accuracy: 0.7489\n"
     ]
    }
   ],
   "source": [
    "accuracy=[]\n",
    "for train_index, val_index in gkf.split(data_array, label_array, groups=group_array):\n",
    "    train_features,train_labels=data_array[train_index],label_array[train_index]\n",
    "    val_features,val_labels=data_array[val_index],label_array[val_index]\n",
    "    scaler=StandardScaler()\n",
    "    train_features = scaler.fit_transform(train_features.reshape(-1, train_features.shape[-1])).reshape(train_features.shape)\n",
    "    val_features = scaler.transform(val_features.reshape(-1, val_features.shape[-1])).reshape(val_features.shape)\n",
    "    model=cnnmodel()\n",
    "    model.fit(train_features,train_labels,epochs=50,batch_size=128,validation_data=(val_features,val_labels))\n",
    "    accuracy.append(model.evaluate(val_features,val_labels)[1])"
   ]
  },
  {
   "cell_type": "code",
   "execution_count": 22,
   "id": "f0d51360",
   "metadata": {},
   "outputs": [
    {
     "data": {
      "text/plain": [
       "0.5913555681705475"
      ]
     },
     "execution_count": 22,
     "metadata": {},
     "output_type": "execute_result"
    }
   ],
   "source": [
    "np.mean(accuracy)"
   ]
  },
  {
   "cell_type": "code",
   "execution_count": null,
   "id": "99f515c4",
   "metadata": {},
   "outputs": [],
   "source": []
  }
 ],
 "metadata": {
  "kernelspec": {
   "display_name": "Python 3 (ipykernel)",
   "language": "python",
   "name": "python3"
  },
  "language_info": {
   "codemirror_mode": {
    "name": "ipython",
    "version": 3
   },
   "file_extension": ".py",
   "mimetype": "text/x-python",
   "name": "python",
   "nbconvert_exporter": "python",
   "pygments_lexer": "ipython3",
   "version": "3.10.5"
  }
 },
 "nbformat": 4,
 "nbformat_minor": 5
}
